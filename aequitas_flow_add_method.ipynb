{
  "cells": [
    {
      "cell_type": "markdown",
      "metadata": {
        "id": "6uOFdSDTdl15"
      },
      "source": [
        "<center><img src=\"https://raw.githubusercontent.com/dssg/aequitas/master/docs/_images/aequitas_logo.svg\" width=\"450\"></center>\n",
        "\n",
        "# How to add a new algorithm to Aequitas Flow\n",
        "\n",
        "\n",
        "**TL;DR**: If you've developed an algorithm you want to benchmark, this notebook will help you on how to include it in Aequitas package. This is also important if you want to contribute to the package.\n",
        "\n"
      ]
    },
    {
      "cell_type": "code",
      "execution_count": null,
      "metadata": {
        "id": "uq1ZpYe-tIKh"
      },
      "outputs": [],
      "source": [
        "# Install Aequitas\n",
        "!pip install \"aequitas==1.0.0\" &> /dev/null\n",
        "# This only needs to run once, or after you lose your runtime environment in Colab."
      ]
    },
    {
      "cell_type": "code",
      "execution_count": null,
      "metadata": {
        "id": "Culj6xuj-EvH"
      },
      "outputs": [],
      "source": [
        "# Cleaning the default logger of Google Colab (logs appear repeated otherwise)\n",
        "from aequitas.flow.utils.logging import clean_handlers\n",
        "\n",
        "clean_handlers()"
      ]
    },
    {
      "cell_type": "markdown",
      "metadata": {
        "id": "lCqxKo979Ox0"
      },
      "source": [
        "## Method Type Definition\n",
        "\n",
        "One of the specific cases we want to approach is how to increase the pool of  **algorithms** in the package.\n",
        "\n",
        "This is especially useful to **benchmark novel methods** of FairML, and compare them to the baselines we have. Additionally, it is a great way to **contribute** to the package.\n",
        "\n",
        "The first step is to determine what type of FairML algorithm you have. This depends mainly on the **input** and **output** of the method, and follows taxonomies presented in several surveys of Fairness in Machine Learning ([Caton and Haas, 2023](https://dl.acm.org/doi/pdf/10.1145/3616865), [Mehrabi et al., 2022](https://arxiv.org/pdf/1908.09635.pdf), [Pessach and Shmueli, 2022](https://dl.acm.org/doi/pdf/10.1145/3494672?casa_token=WE_KHZCRimkAAAAA:KuJ6HNEHlyNLMYfRA3ZylG7hUVX2PmH9ZiUO1QHhEpPXGinJ-cuuO7KBidKTICsRzIpoq8v-pddYkA)).\n",
        "\n",
        "We additionally have an option for common ML algorithms, such as Random Forests, Neural Networks, etc., in a separate type of method named `BaseEstimator`.\n",
        "\n",
        "<img src=\"https://raw.githubusercontent.com/dssg/aequitas/fairflow-release/src/aequitas_webapp/static/images/fairflow_method_contribution.svg\">"
      ]
    },
    {
      "cell_type": "markdown",
      "metadata": {
        "id": "YKVSRksxwVyV"
      },
      "source": [
        "---\n",
        "\n",
        "## Example: Adding a New Method\n",
        "\n",
        "In this particular example notebook, we integrate an implementation of **Data Repairer** ([Feldman et al. 2015](https://arxiv.org/abs/1412.3756)). This method changes the distribution of the features to match the global distribution, *i.e.*, the value of any percentile for a dataset feature is independent of race in ACS Income.\n",
        "\n",
        "It is, therefore a pre-processing method, as it transforms the data to a fairer representation, before passing it to a classification model.\n",
        "\n",
        "We download the implementation from [aequitas repository](https://github.com/dssg/aequitas) and place it in the `examples/data_repair` directory of the environment in Google Colab. It shares the same location in the repository."
      ]
    },
    {
      "cell_type": "code",
      "execution_count": null,
      "metadata": {
        "colab": {
          "base_uri": "https://localhost:8080/"
        },
        "id": "DRdQO_Stvg0S",
        "outputId": "0cc1ff68-22cc-4007-f413-b2841f796291"
      },
      "outputs": [],
      "source": [
        "from aequitas.flow.utils.colab import get_examples\n",
        "\n",
        "get_examples(\"methods/data_repair\")"
      ]
    },
    {
      "cell_type": "markdown",
      "metadata": {
        "id": "X-BmVh5Kw7Ao"
      },
      "source": [
        "By opening the file, we can observe that there are **three functions** in the file:\n",
        "- The first method `get_quantiles` **calculates quantiles** for each group and the global quantiles in the dataset.\n",
        "- The second method `repair_features` **transforms the dataset** so that the distribution of features is independent of the protected attribute.\n",
        "- The third is a private method that helps with the formatting of pandas dataframes.\n"
      ]
    },
    {
      "cell_type": "markdown",
      "metadata": {
        "id": "s1L_bLwazgfy"
      },
      "source": [
        "---\n",
        "\n",
        "## Method Interface\n",
        "\n",
        "Now, let's **check the interface** for pre-processing methods in Aequitas Flow."
      ]
    },
    {
      "cell_type": "code",
      "execution_count": null,
      "metadata": {
        "colab": {
          "base_uri": "https://localhost:8080/"
        },
        "id": "cPcf6WDc0JM8",
        "outputId": "75e0974b-016c-47cf-e71a-577d16831ef1"
      },
      "outputs": [],
      "source": [
        "from aequitas.flow.methods.preprocessing.preprocessing import PreProcessing\n",
        "import inspect  # To help get the code for the class\n",
        "\n",
        "source = inspect.getsource(PreProcessing)\n",
        "print(source)"
      ]
    },
    {
      "cell_type": "markdown",
      "metadata": {
        "id": "Qi6uoXU50oBC"
      },
      "source": [
        "From the code above, we can see that a FairML method that inherits from this `Preprocessing` abstract class has to implement **two methods**, one to **fit** to data, and the other to **transform** data. The definition above gives us an idea of what are the inputs and outputs for each method."
      ]
    },
    {
      "cell_type": "markdown",
      "metadata": {
        "id": "h1mVHw8RAYzB"
      },
      "source": [
        "---\n",
        "## Method Implementation\n",
        "\n",
        "Let's try to integrate this novel method into Aequitas Flow. The following cell will explain how to do so, at the same time as the class is implemented."
      ]
    },
    {
      "cell_type": "code",
      "execution_count": null,
      "metadata": {
        "id": "09GtvUwgBjd0"
      },
      "outputs": [],
      "source": [
        "import pandas as pd\n",
        "from typing import Optional\n",
        "\n",
        "from examples.methods.data_repair import get_quantiles, repair_features\n",
        "from aequitas.flow.utils import create_logger\n",
        "\n",
        "\n",
        "class DataRepair(PreProcessing):  # Data repair is a pre-processing method\n",
        "    def __init__(self, repair_level, definition, columns):\n",
        "        # In instantiation, we pass all the hyperparameters for the method\n",
        "        # But first, let's create a logger\n",
        "        self.logger = create_logger(\"methods.preprocessing.DataRepair\")\n",
        "        self.logger.info(\"Creating DataRepair object.\")\n",
        "        self.repair_level = repair_level\n",
        "        self.columns = columns\n",
        "        self.definition = definition\n",
        "\n",
        "    # Now, let's use the methods in the examples to make the DataRepair class\n",
        "    def fit(self, X: pd.DataFrame, y: pd.Series, s: Optional[pd.Series] = None) -> None:\n",
        "        self.logger.info(\"Fitting DataRepair.\")\n",
        "        # We get the quantiles of the training data and save them locally.\n",
        "        self.group_quantiles, self.global_quantiles = get_quantiles(\n",
        "            X[self.columns],\n",
        "            s,\n",
        "            self.definition,\n",
        "        )\n",
        "        self.logger.info(\"DataRepair fitted.\")\n",
        "\n",
        "    def transform(\n",
        "        self, X: pd.DataFrame, y: pd.Series, s: Optional[pd.Series] = None\n",
        "    ) -> tuple[pd.DataFrame, pd.Series, pd.Series]:\n",
        "        self.logger.info(\"Transforming with DataRepair.\")\n",
        "        # We use the gathered quantiles and the hyperparams to transform the data.\n",
        "        transformed_X = repair_features(\n",
        "            X[self.columns],\n",
        "            s,\n",
        "            self.definition,\n",
        "            self.repair_level,\n",
        "            self.group_quantiles,\n",
        "            self.global_quantiles\n",
        "        )\n",
        "        self.logger.info(\"Data transformed with DataRepair.\")\n",
        "        return_X = X.copy()\n",
        "        for column in transformed_X.columns:\n",
        "            return_X[column] = transformed_X[column]\n",
        "        return return_X, y, s"
      ]
    },
    {
      "cell_type": "markdown",
      "metadata": {
        "id": "98iiF8ShG9d3"
      },
      "source": [
        "---\n",
        "## Testing the Method\n",
        "\n",
        "After the implementation, it is easy to test the usage with **Aequitas Flow's resources**. We will instantiate a dataset, and check if the data is being repaired as intended."
      ]
    },
    {
      "cell_type": "code",
      "execution_count": null,
      "metadata": {
        "colab": {
          "base_uri": "https://localhost:8080/"
        },
        "id": "8NMs-vbBHLYN",
        "outputId": "6e2eee6d-e6ef-4783-82a6-aea72f7b7e43"
      },
      "outputs": [],
      "source": [
        "from aequitas.flow.datasets import FolkTables\n",
        "\n",
        "dataset = FolkTables(\"ACS_sample\")\n",
        "dataset.load_data()\n",
        "dataset.create_splits()"
      ]
    },
    {
      "cell_type": "markdown",
      "metadata": {
        "id": "w-WXG3tYHXly"
      },
      "source": [
        "We will first check the original distribution of one variable to be transformed: **Age** (AGEP)."
      ]
    },
    {
      "cell_type": "code",
      "execution_count": null,
      "metadata": {
        "colab": {
          "base_uri": "https://localhost:8080/",
          "height": 449
        },
        "id": "mR5LpnqZHWVW",
        "outputId": "1101be4b-db8e-4f26-dc46-b31a5b37235f"
      },
      "outputs": [],
      "source": [
        "import seaborn as sns\n",
        "for race in dataset.data[\"RAC1P\"].unique():\n",
        "    sns.kdeplot(dataset.data[dataset.data[\"RAC1P\"]==race], x=\"AGEP\", bw_adjust=1.9)"
      ]
    },
    {
      "cell_type": "markdown",
      "metadata": {
        "id": "lE7bSrsqIZEW"
      },
      "source": [
        "Now let's create a repaired version of this dataset. To do so, we will **instantiate the class** we created and call the **fit and transformation methods**. We will then visualize the **resulting distributions**."
      ]
    },
    {
      "cell_type": "code",
      "execution_count": null,
      "metadata": {
        "colab": {
          "base_uri": "https://localhost:8080/"
        },
        "id": "GJCO1RFNHUTb",
        "outputId": "86bf0276-6931-44ce-8be9-c1e7c4507a12"
      },
      "outputs": [],
      "source": [
        "repairer = DataRepair(repair_level=1.0, definition=101, columns=[\"AGEP\"])\n",
        "\n",
        "repairer.fit(dataset.data.X, dataset.data.y, dataset.data.s)\n",
        "repaired_x, y, s = repairer.transform(dataset.data.X, dataset.data.y, dataset.data.s)\n",
        "\n",
        "# Adding the protected attribute to X to accelerate plots.\n",
        "repaired_x[\"RAC1P\"] = s\n",
        "repaired_x = repaired_x.copy()"
      ]
    },
    {
      "cell_type": "code",
      "execution_count": null,
      "metadata": {
        "colab": {
          "base_uri": "https://localhost:8080/",
          "height": 449
        },
        "id": "_9dXH9uEJh34",
        "outputId": "23648bbb-a06f-408d-f11d-dc5573ed3251"
      },
      "outputs": [],
      "source": [
        "import seaborn as sns\n",
        "for race in repaired_x[\"RAC1P\"].unique():\n",
        "    sns.kdeplot(repaired_x[repaired_x[\"RAC1P\"]==race], x=\"AGEP\", bw_adjust=1.9)"
      ]
    },
    {
      "cell_type": "markdown",
      "metadata": {
        "id": "JeoaaG_4KjJC"
      },
      "source": [
        "We can see that the **distributions of age are very similar for each group** within the sensitive attribute, which is the expected behavior for the method.\n",
        "\n",
        "\n",
        "Note that the method was called exactly how Aequitas Flow uses it during the pipeline and is prepared for being included in any experiment. The method requires the definition of an in-processing method or base estimator to score the transformed dataset.\n",
        "\n",
        "---"
      ]
    },
    {
      "cell_type": "markdown",
      "metadata": {},
      "source": []
    }
  ],
  "metadata": {
    "colab": {
      "provenance": []
    },
    "kernelspec": {
      "display_name": "Python 3",
      "name": "python3"
    },
    "language_info": {
      "name": "python"
    }
  },
  "nbformat": 4,
  "nbformat_minor": 0
}
