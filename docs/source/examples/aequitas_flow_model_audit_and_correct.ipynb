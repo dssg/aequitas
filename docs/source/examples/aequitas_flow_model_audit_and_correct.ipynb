{
  "nbformat": 4,
  "nbformat_minor": 0,
  "metadata": {
    "colab": {
      "provenance": []
    },
    "kernelspec": {
      "name": "python3",
      "display_name": "Python 3"
    },
    "language_info": {
      "name": "python"
    }
  },
  "cells": [
    {
      "cell_type": "markdown",
      "source": [
        "\n",
        "<center><img src=\"https://raw.githubusercontent.com/dssg/aequitas/master/src/aequitas_webapp/static/images/aequitas_flow_header.svg\"></center>\n",
        "\n",
        "# Correcting the predictions of a Model\n",
        "\n",
        "In this notebook we will first **load a Machine Learning model** created through an **`Experiment`** of **Aequitas Flow**. We will  measure its performance and run a **fairness audit**  using the application-specific configurations.\n",
        "\n",
        "We will then apply a **post-processing method to correct the predictions**, and observe any **changes in fairness** and **performance**."
      ],
      "metadata": {
        "id": "ZsqKO--9ksr5"
      }
    },
    {
      "cell_type": "markdown",
      "source": [
        "---\n",
        "## Initial Setup\n",
        "\n",
        "This section covers the initial setup required for the notebook. We'll be **installing the most recent version of Aequitas**.\n",
        "\n",
        "> ⚠️ **This notebook assumes that an ML Model has already been trained**. ⚠️\n",
        "\n",
        "We'll also be retrieving the model pickle file from a previous experiment, downloading it directly from the [Aequitas Repository](https://github.com/dssg/aequitas/tree/master/examples). However, the notebook supports the use of other models or datasets."
      ],
      "metadata": {
        "id": "0wDrvM8_n5mv"
      }
    },
    {
      "cell_type": "code",
      "source": [
        "# Install Aequitas (change to version install after release)\n",
        "!pip install git+https://github.com/dssg/aequitas.git@release-fixes &> /dev/null\n",
        "# This only needs to run once, or after your runtime environment gets deleted."
      ],
      "metadata": {
        "id": "zPDql-NObJop"
      },
      "execution_count": 1,
      "outputs": []
    },
    {
      "cell_type": "code",
      "source": [
        "# This will avoid double logging in Colab\n",
        "from aequitas.flow.utils.logging import clean_handlers\n",
        "\n",
        "clean_handlers()"
      ],
      "metadata": {
        "id": "1KK264RHq2CU"
      },
      "execution_count": 2,
      "outputs": []
    },
    {
      "cell_type": "code",
      "source": [
        "# This cell will download a model from the repository. You do not need to run it if you have your won model.\n",
        "from aequitas.flow.utils.colab import get_examples\n",
        "\n",
        "get_examples(\"experiment_results\")"
      ],
      "metadata": {
        "colab": {
          "base_uri": "https://localhost:8080/"
        },
        "id": "Jsmu0T87q6Bx",
        "outputId": "a706e697-24b7-400a-aa0f-004195b48818"
      },
      "execution_count": 3,
      "outputs": [
        {
          "output_type": "stream",
          "name": "stdout",
          "text": [
            "[INFO] 2024-01-12 09:16:18 utils.colab - Downloading examples from fairflow repository.\n",
            "[INFO] 2024-01-12 09:16:39 utils.colab - Examples downloaded.\n"
          ]
        }
      ]
    },
    {
      "cell_type": "markdown",
      "source": [
        "---\n",
        "## Loading the model & datasets\n",
        "\n",
        "In this section we will load the model for the audit and the evaluation datasets.\n",
        "\n",
        "If you are testing your own model, make sure to send it to the Colab environment (or any other environment you are using this notebook on).\n",
        "\n",
        "Starting with the model:"
      ],
      "metadata": {
        "id": "nGTwdp8Eo_Cg"
      }
    },
    {
      "cell_type": "code",
      "source": [
        "pickle_path = \"examples/experiment_results/lgbm_baf_sample.pickle\""
      ],
      "metadata": {
        "id": "UDl_KSJZrGUL"
      },
      "execution_count": 4,
      "outputs": []
    },
    {
      "cell_type": "code",
      "source": [
        "# Change this cell if your model is loaded in a different form.\n",
        "import pickle\n",
        "\n",
        "with open(pickle_path, \"rb\") as f:\n",
        "    model = pickle.load(f)"
      ],
      "metadata": {
        "id": "LpPU4HfO3UgA"
      },
      "execution_count": 5,
      "outputs": []
    },
    {
      "cell_type": "markdown",
      "source": [
        "In this example, we are using a sample of the **BankAccountFraud** dataset. This dataset presents a predictive task of detecting fraudulent attempts of bank account opening.\n",
        "\n",
        "In case you want to use a different dataset, make sure it is loaded as a pandas dataframe. If possible, configure an `aequitas.flow.datasets.GenericDataset`, for less changes in other cells.\n",
        "\n",
        "Now we will load the dataset:"
      ],
      "metadata": {
        "id": "iJM2rtif3MrQ"
      }
    },
    {
      "cell_type": "code",
      "source": [
        "from aequitas.flow.methods.base_estimator import LightGBM\n",
        "from aequitas.flow.datasets import BankAccountFraud\n",
        "\n",
        "dataset = BankAccountFraud(\"Sample\")\n",
        "dataset.load_data()\n",
        "dataset.create_splits()\n",
        "\n",
        "validation = dataset.validation\n",
        "test = dataset.test"
      ],
      "metadata": {
        "id": "tNw7H0gEdnSZ",
        "colab": {
          "base_uri": "https://localhost:8080/"
        },
        "outputId": "a8ab91ec-16b3-4993-c3de-14a0eb91b837"
      },
      "execution_count": 6,
      "outputs": [
        {
          "output_type": "stream",
          "name": "stdout",
          "text": [
            "[INFO] 2024-01-12 09:16:46 datasets.BankAccountFraud - Instantiating a BankAccountFraud dataset.\n",
            "[INFO] 2024-01-12 09:16:46 datasets.BankAccountFraud - Downloading sample data from repository.\n",
            "[INFO] 2024-01-12 09:16:47 datasets.BankAccountFraud - Downloaded data successfully.\n",
            "[INFO] 2024-01-12 09:16:47 datasets.BankAccountFraud - Loading data from /usr/local/lib/python3.10/dist-packages/aequitas/datasets/BankAccountFraud/Sample.parquet\n"
          ]
        }
      ]
    },
    {
      "cell_type": "markdown",
      "source": [
        "---\n",
        "## Obtaining the predictions and thresholding the model\n",
        "\n",
        "In the following cells, we will generate the predictions with the model and the dataset, and create a threshold for it."
      ],
      "metadata": {
        "id": "ho6YLarf4rVJ"
      }
    },
    {
      "cell_type": "code",
      "source": [
        "# If your model is not from\n",
        "preds_val = model.predict_proba(validation.X, validation.s)\n",
        "preds_test = model.predict_proba(test.X, test.s)"
      ],
      "metadata": {
        "id": "hZ1xMZ6I4YQd"
      },
      "execution_count": 7,
      "outputs": []
    },
    {
      "cell_type": "markdown",
      "source": [
        "We use the `Threshold` from Aequitas Flow for thresholding. In the specific use-case of the BankAccountFraud dataset, we are pointing for an FPR value of 5%. You can adjust that by changing the instantiation of this class.\n",
        "\n",
        "The Threshold will be fitted to a validation set, and used to binarize the test set. Note that you can threshold the same test you fit, but this might lead to overfitting."
      ],
      "metadata": {
        "id": "JWRvvenC9XEf"
      }
    },
    {
      "cell_type": "code",
      "source": [
        "from aequitas.flow.methods.postprocessing import Threshold\n",
        "\n",
        "# We will create a threshold based to obtain 5% FPR on validation\n",
        "threshold = Threshold(threshold_type=\"fpr\", threshold_value=0.05)\n",
        "threshold.fit(validation.X, preds_val, validation.y, validation.s)\n",
        "\n",
        "print(f\"Threshold Value: {threshold.threshold}\")"
      ],
      "metadata": {
        "colab": {
          "base_uri": "https://localhost:8080/"
        },
        "id": "S81IqlG3ozML",
        "outputId": "fc3deb96-cc6f-4aae-ff42-1ec97ab30b57"
      },
      "execution_count": 8,
      "outputs": [
        {
          "output_type": "stream",
          "name": "stdout",
          "text": [
            "[INFO] 2024-01-12 09:16:48 methods.postprocessing.Threshold - Instantiating postprocessing Threshold.\n",
            "[INFO] 2024-01-12 09:16:48 methods.postprocessing.Threshold - Computing threshold.\n",
            "[INFO] 2024-01-12 09:16:48 methods.postprocessing.Threshold - Finished computing threshold.\n",
            "Threshold Value: 0.031104218027432882\n"
          ]
        }
      ]
    },
    {
      "cell_type": "code",
      "source": [
        "# Binarize test predictions with previously calculated threshold\n",
        "bin_preds_test = threshold.transform(test.X, preds_test, test.s)"
      ],
      "metadata": {
        "colab": {
          "base_uri": "https://localhost:8080/"
        },
        "id": "HmR4q725p5uQ",
        "outputId": "864d7ed4-57c1-4acd-d3d5-17e4a01bde8a"
      },
      "execution_count": 9,
      "outputs": [
        {
          "output_type": "stream",
          "name": "stdout",
          "text": [
            "[INFO] 2024-01-12 09:16:48 methods.postprocessing.Threshold - Transforming predictions.\n",
            "[INFO] 2024-01-12 09:16:48 methods.postprocessing.Threshold - Finished transforming predictions.\n"
          ]
        }
      ]
    },
    {
      "cell_type": "markdown",
      "source": [
        "---\n",
        "## Fairness Audit and Performance Evaluation\n",
        "\n",
        "Now, we will create the resources necessary to perform a fairness audit, and evaluate the model performance. These are:\n",
        "1. **Protected attribute**\n",
        "2. **Model predictions**\n",
        "3. **Labels**\n",
        "\n",
        "But first, we will have to define some configurations of this step."
      ],
      "metadata": {
        "id": "ROkY2ALE-hl3"
      }
    },
    {
      "cell_type": "markdown",
      "source": [
        "As a brief summary of the task of the BankAccountFraud dataset, the performance is determined by the percentage of positive instances (frauds) detected (TPR). False Positives will incur in a non-fraudulent individual not having a bank account due to a false flag. Because of this, we want to equalize the rate of false positives (FPR) in relation to the protected attribute, in this case the customer age. The reference group for this task is the group with younger age (<50).\n",
        "\n",
        "> ⚠️ **Make sure to update the following configuration cell with the appropriate values for your use-case**. ⚠️"
      ],
      "metadata": {
        "id": "nj9V5Hj4BQWc"
      }
    },
    {
      "cell_type": "code",
      "source": [
        "performance_metric = \"tpr\"\n",
        "fairness_metric = \"fpr\"\n",
        "\n",
        "# The column name of the sensitive attribute can be obtained from the aequitas.flow.Dataset object\n",
        "fairness_column = test.s.name\n",
        "# The reference group for the example of BAF is \"0\", i.e. individuals from the younger group (<50).\n",
        "reference_group = \"0\""
      ],
      "metadata": {
        "id": "qPAaigjzArnO"
      },
      "execution_count": 10,
      "outputs": []
    },
    {
      "cell_type": "code",
      "source": [
        "# Creating a dataframe for the fairness audit\n",
        "audit_df = test.s.astype(str).to_frame()\n",
        "audit_df[\"label\"] = test.y\n",
        "# These might need to change if you are not using an aequitas.flow.Dataset object\n",
        "\n",
        "audit_df[\"score\"] = bin_preds_test"
      ],
      "metadata": {
        "id": "tXZfmWuYn4M6"
      },
      "execution_count": 11,
      "outputs": []
    },
    {
      "cell_type": "markdown",
      "source": [
        "In the cell bellow we will see the minimal structure for a fairness audit DataFrame:"
      ],
      "metadata": {
        "id": "qaM-U7_HcOlO"
      }
    },
    {
      "cell_type": "code",
      "source": [
        "audit_df.sample(n=5, random_state=2)"
      ],
      "metadata": {
        "colab": {
          "base_uri": "https://localhost:8080/",
          "height": 206
        },
        "id": "wg8YZRKxCZdJ",
        "outputId": "56d3da66-3cde-4ee6-f579-b28be6930238"
      },
      "execution_count": 12,
      "outputs": [
        {
          "output_type": "execute_result",
          "data": {
            "text/plain": [
              "      customer_age_bin  label  score\n",
              "92592                0      0      0\n",
              "88551                1      0      0\n",
              "94698                0      0      0\n",
              "88759                0      0      1\n",
              "87353                0      0      0"
            ],
            "text/html": [
              "\n",
              "  <div id=\"df-3b81e6ea-7b43-4c6e-8e01-b2c06f0e93bd\" class=\"colab-df-container\">\n",
              "    <div>\n",
              "<style scoped>\n",
              "    .dataframe tbody tr th:only-of-type {\n",
              "        vertical-align: middle;\n",
              "    }\n",
              "\n",
              "    .dataframe tbody tr th {\n",
              "        vertical-align: top;\n",
              "    }\n",
              "\n",
              "    .dataframe thead th {\n",
              "        text-align: right;\n",
              "    }\n",
              "</style>\n",
              "<table border=\"1\" class=\"dataframe\">\n",
              "  <thead>\n",
              "    <tr style=\"text-align: right;\">\n",
              "      <th></th>\n",
              "      <th>customer_age_bin</th>\n",
              "      <th>label</th>\n",
              "      <th>score</th>\n",
              "    </tr>\n",
              "  </thead>\n",
              "  <tbody>\n",
              "    <tr>\n",
              "      <th>92592</th>\n",
              "      <td>0</td>\n",
              "      <td>0</td>\n",
              "      <td>0</td>\n",
              "    </tr>\n",
              "    <tr>\n",
              "      <th>88551</th>\n",
              "      <td>1</td>\n",
              "      <td>0</td>\n",
              "      <td>0</td>\n",
              "    </tr>\n",
              "    <tr>\n",
              "      <th>94698</th>\n",
              "      <td>0</td>\n",
              "      <td>0</td>\n",
              "      <td>0</td>\n",
              "    </tr>\n",
              "    <tr>\n",
              "      <th>88759</th>\n",
              "      <td>0</td>\n",
              "      <td>0</td>\n",
              "      <td>1</td>\n",
              "    </tr>\n",
              "    <tr>\n",
              "      <th>87353</th>\n",
              "      <td>0</td>\n",
              "      <td>0</td>\n",
              "      <td>0</td>\n",
              "    </tr>\n",
              "  </tbody>\n",
              "</table>\n",
              "</div>\n",
              "    <div class=\"colab-df-buttons\">\n",
              "\n",
              "  <div class=\"colab-df-container\">\n",
              "    <button class=\"colab-df-convert\" onclick=\"convertToInteractive('df-3b81e6ea-7b43-4c6e-8e01-b2c06f0e93bd')\"\n",
              "            title=\"Convert this dataframe to an interactive table.\"\n",
              "            style=\"display:none;\">\n",
              "\n",
              "  <svg xmlns=\"http://www.w3.org/2000/svg\" height=\"24px\" viewBox=\"0 -960 960 960\">\n",
              "    <path d=\"M120-120v-720h720v720H120Zm60-500h600v-160H180v160Zm220 220h160v-160H400v160Zm0 220h160v-160H400v160ZM180-400h160v-160H180v160Zm440 0h160v-160H620v160ZM180-180h160v-160H180v160Zm440 0h160v-160H620v160Z\"/>\n",
              "  </svg>\n",
              "    </button>\n",
              "\n",
              "  <style>\n",
              "    .colab-df-container {\n",
              "      display:flex;\n",
              "      gap: 12px;\n",
              "    }\n",
              "\n",
              "    .colab-df-convert {\n",
              "      background-color: #E8F0FE;\n",
              "      border: none;\n",
              "      border-radius: 50%;\n",
              "      cursor: pointer;\n",
              "      display: none;\n",
              "      fill: #1967D2;\n",
              "      height: 32px;\n",
              "      padding: 0 0 0 0;\n",
              "      width: 32px;\n",
              "    }\n",
              "\n",
              "    .colab-df-convert:hover {\n",
              "      background-color: #E2EBFA;\n",
              "      box-shadow: 0px 1px 2px rgba(60, 64, 67, 0.3), 0px 1px 3px 1px rgba(60, 64, 67, 0.15);\n",
              "      fill: #174EA6;\n",
              "    }\n",
              "\n",
              "    .colab-df-buttons div {\n",
              "      margin-bottom: 4px;\n",
              "    }\n",
              "\n",
              "    [theme=dark] .colab-df-convert {\n",
              "      background-color: #3B4455;\n",
              "      fill: #D2E3FC;\n",
              "    }\n",
              "\n",
              "    [theme=dark] .colab-df-convert:hover {\n",
              "      background-color: #434B5C;\n",
              "      box-shadow: 0px 1px 3px 1px rgba(0, 0, 0, 0.15);\n",
              "      filter: drop-shadow(0px 1px 2px rgba(0, 0, 0, 0.3));\n",
              "      fill: #FFFFFF;\n",
              "    }\n",
              "  </style>\n",
              "\n",
              "    <script>\n",
              "      const buttonEl =\n",
              "        document.querySelector('#df-3b81e6ea-7b43-4c6e-8e01-b2c06f0e93bd button.colab-df-convert');\n",
              "      buttonEl.style.display =\n",
              "        google.colab.kernel.accessAllowed ? 'block' : 'none';\n",
              "\n",
              "      async function convertToInteractive(key) {\n",
              "        const element = document.querySelector('#df-3b81e6ea-7b43-4c6e-8e01-b2c06f0e93bd');\n",
              "        const dataTable =\n",
              "          await google.colab.kernel.invokeFunction('convertToInteractive',\n",
              "                                                    [key], {});\n",
              "        if (!dataTable) return;\n",
              "\n",
              "        const docLinkHtml = 'Like what you see? Visit the ' +\n",
              "          '<a target=\"_blank\" href=https://colab.research.google.com/notebooks/data_table.ipynb>data table notebook</a>'\n",
              "          + ' to learn more about interactive tables.';\n",
              "        element.innerHTML = '';\n",
              "        dataTable['output_type'] = 'display_data';\n",
              "        await google.colab.output.renderOutput(dataTable, element);\n",
              "        const docLink = document.createElement('div');\n",
              "        docLink.innerHTML = docLinkHtml;\n",
              "        element.appendChild(docLink);\n",
              "      }\n",
              "    </script>\n",
              "  </div>\n",
              "\n",
              "\n",
              "<div id=\"df-9d7e01eb-16d0-490b-b9d1-8579c48a9a68\">\n",
              "  <button class=\"colab-df-quickchart\" onclick=\"quickchart('df-9d7e01eb-16d0-490b-b9d1-8579c48a9a68')\"\n",
              "            title=\"Suggest charts\"\n",
              "            style=\"display:none;\">\n",
              "\n",
              "<svg xmlns=\"http://www.w3.org/2000/svg\" height=\"24px\"viewBox=\"0 0 24 24\"\n",
              "     width=\"24px\">\n",
              "    <g>\n",
              "        <path d=\"M19 3H5c-1.1 0-2 .9-2 2v14c0 1.1.9 2 2 2h14c1.1 0 2-.9 2-2V5c0-1.1-.9-2-2-2zM9 17H7v-7h2v7zm4 0h-2V7h2v10zm4 0h-2v-4h2v4z\"/>\n",
              "    </g>\n",
              "</svg>\n",
              "  </button>\n",
              "\n",
              "<style>\n",
              "  .colab-df-quickchart {\n",
              "      --bg-color: #E8F0FE;\n",
              "      --fill-color: #1967D2;\n",
              "      --hover-bg-color: #E2EBFA;\n",
              "      --hover-fill-color: #174EA6;\n",
              "      --disabled-fill-color: #AAA;\n",
              "      --disabled-bg-color: #DDD;\n",
              "  }\n",
              "\n",
              "  [theme=dark] .colab-df-quickchart {\n",
              "      --bg-color: #3B4455;\n",
              "      --fill-color: #D2E3FC;\n",
              "      --hover-bg-color: #434B5C;\n",
              "      --hover-fill-color: #FFFFFF;\n",
              "      --disabled-bg-color: #3B4455;\n",
              "      --disabled-fill-color: #666;\n",
              "  }\n",
              "\n",
              "  .colab-df-quickchart {\n",
              "    background-color: var(--bg-color);\n",
              "    border: none;\n",
              "    border-radius: 50%;\n",
              "    cursor: pointer;\n",
              "    display: none;\n",
              "    fill: var(--fill-color);\n",
              "    height: 32px;\n",
              "    padding: 0;\n",
              "    width: 32px;\n",
              "  }\n",
              "\n",
              "  .colab-df-quickchart:hover {\n",
              "    background-color: var(--hover-bg-color);\n",
              "    box-shadow: 0 1px 2px rgba(60, 64, 67, 0.3), 0 1px 3px 1px rgba(60, 64, 67, 0.15);\n",
              "    fill: var(--button-hover-fill-color);\n",
              "  }\n",
              "\n",
              "  .colab-df-quickchart-complete:disabled,\n",
              "  .colab-df-quickchart-complete:disabled:hover {\n",
              "    background-color: var(--disabled-bg-color);\n",
              "    fill: var(--disabled-fill-color);\n",
              "    box-shadow: none;\n",
              "  }\n",
              "\n",
              "  .colab-df-spinner {\n",
              "    border: 2px solid var(--fill-color);\n",
              "    border-color: transparent;\n",
              "    border-bottom-color: var(--fill-color);\n",
              "    animation:\n",
              "      spin 1s steps(1) infinite;\n",
              "  }\n",
              "\n",
              "  @keyframes spin {\n",
              "    0% {\n",
              "      border-color: transparent;\n",
              "      border-bottom-color: var(--fill-color);\n",
              "      border-left-color: var(--fill-color);\n",
              "    }\n",
              "    20% {\n",
              "      border-color: transparent;\n",
              "      border-left-color: var(--fill-color);\n",
              "      border-top-color: var(--fill-color);\n",
              "    }\n",
              "    30% {\n",
              "      border-color: transparent;\n",
              "      border-left-color: var(--fill-color);\n",
              "      border-top-color: var(--fill-color);\n",
              "      border-right-color: var(--fill-color);\n",
              "    }\n",
              "    40% {\n",
              "      border-color: transparent;\n",
              "      border-right-color: var(--fill-color);\n",
              "      border-top-color: var(--fill-color);\n",
              "    }\n",
              "    60% {\n",
              "      border-color: transparent;\n",
              "      border-right-color: var(--fill-color);\n",
              "    }\n",
              "    80% {\n",
              "      border-color: transparent;\n",
              "      border-right-color: var(--fill-color);\n",
              "      border-bottom-color: var(--fill-color);\n",
              "    }\n",
              "    90% {\n",
              "      border-color: transparent;\n",
              "      border-bottom-color: var(--fill-color);\n",
              "    }\n",
              "  }\n",
              "</style>\n",
              "\n",
              "  <script>\n",
              "    async function quickchart(key) {\n",
              "      const quickchartButtonEl =\n",
              "        document.querySelector('#' + key + ' button');\n",
              "      quickchartButtonEl.disabled = true;  // To prevent multiple clicks.\n",
              "      quickchartButtonEl.classList.add('colab-df-spinner');\n",
              "      try {\n",
              "        const charts = await google.colab.kernel.invokeFunction(\n",
              "            'suggestCharts', [key], {});\n",
              "      } catch (error) {\n",
              "        console.error('Error during call to suggestCharts:', error);\n",
              "      }\n",
              "      quickchartButtonEl.classList.remove('colab-df-spinner');\n",
              "      quickchartButtonEl.classList.add('colab-df-quickchart-complete');\n",
              "    }\n",
              "    (() => {\n",
              "      let quickchartButtonEl =\n",
              "        document.querySelector('#df-9d7e01eb-16d0-490b-b9d1-8579c48a9a68 button');\n",
              "      quickchartButtonEl.style.display =\n",
              "        google.colab.kernel.accessAllowed ? 'block' : 'none';\n",
              "    })();\n",
              "  </script>\n",
              "</div>\n",
              "    </div>\n",
              "  </div>\n"
            ]
          },
          "metadata": {},
          "execution_count": 12
        }
      ]
    },
    {
      "cell_type": "markdown",
      "source": [
        "We will quickly observe the performance of the model with a method for the effect.\n",
        "\n",
        "In this dataset, we are using global **TPR** as performance metric."
      ],
      "metadata": {
        "id": "bNH9djTU_7mg"
      }
    },
    {
      "cell_type": "code",
      "source": [
        "from aequitas.flow.evaluation import evaluate_performance\n",
        "import pandas as pd\n",
        "\n",
        "pd.Series(evaluate_performance(audit_df[\"label\"], audit_df[\"score\"]))[performance_metric]"
      ],
      "metadata": {
        "colab": {
          "base_uri": "https://localhost:8080/"
        },
        "id": "2AlL6HKJroKk",
        "outputId": "717a71e0-d6a0-4670-d90a-d33afc35007a"
      },
      "execution_count": 13,
      "outputs": [
        {
          "output_type": "execute_result",
          "data": {
            "text/plain": [
              "0.5150214592274678"
            ]
          },
          "metadata": {},
          "execution_count": 13
        }
      ]
    },
    {
      "cell_type": "markdown",
      "source": [
        "We will now perform the fairness audit:"
      ],
      "metadata": {
        "id": "uqb4jcJ3ATxi"
      }
    },
    {
      "cell_type": "code",
      "source": [
        "from aequitas.group import Group\n",
        "from aequitas.plot import summary\n",
        "\n",
        "g = Group()\n",
        "disparities = g.calculate_disparities(audit_df, \"score\", \"label\", [fairness_column], {fairness_column: reference_group})\n",
        "\n",
        "summary(disparities, [fairness_metric])"
      ],
      "metadata": {
        "id": "_P_7XVnz5f5S",
        "colab": {
          "base_uri": "https://localhost:8080/",
          "height": 229
        },
        "outputId": "a122e7af-fdff-4f2a-f7f9-1033e9066c7f"
      },
      "execution_count": 14,
      "outputs": [
        {
          "output_type": "execute_result",
          "data": {
            "text/html": [
              "\n",
              "<div id=\"altair-viz-c9e050002dc1462ead7fd6c1b31ea9b9\"></div>\n",
              "<script type=\"text/javascript\">\n",
              "  var VEGA_DEBUG = (typeof VEGA_DEBUG == \"undefined\") ? {} : VEGA_DEBUG;\n",
              "  (function(spec, embedOpt){\n",
              "    let outputDiv = document.currentScript.previousElementSibling;\n",
              "    if (outputDiv.id !== \"altair-viz-c9e050002dc1462ead7fd6c1b31ea9b9\") {\n",
              "      outputDiv = document.getElementById(\"altair-viz-c9e050002dc1462ead7fd6c1b31ea9b9\");\n",
              "    }\n",
              "    const paths = {\n",
              "      \"vega\": \"https://cdn.jsdelivr.net/npm//vega@5?noext\",\n",
              "      \"vega-lib\": \"https://cdn.jsdelivr.net/npm//vega-lib?noext\",\n",
              "      \"vega-lite\": \"https://cdn.jsdelivr.net/npm//vega-lite@4.17.0?noext\",\n",
              "      \"vega-embed\": \"https://cdn.jsdelivr.net/npm//vega-embed@6?noext\",\n",
              "    };\n",
              "\n",
              "    function maybeLoadScript(lib, version) {\n",
              "      var key = `${lib.replace(\"-\", \"\")}_version`;\n",
              "      return (VEGA_DEBUG[key] == version) ?\n",
              "        Promise.resolve(paths[lib]) :\n",
              "        new Promise(function(resolve, reject) {\n",
              "          var s = document.createElement('script');\n",
              "          document.getElementsByTagName(\"head\")[0].appendChild(s);\n",
              "          s.async = true;\n",
              "          s.onload = () => {\n",
              "            VEGA_DEBUG[key] = version;\n",
              "            return resolve(paths[lib]);\n",
              "          };\n",
              "          s.onerror = () => reject(`Error loading script: ${paths[lib]}`);\n",
              "          s.src = paths[lib];\n",
              "        });\n",
              "    }\n",
              "\n",
              "    function showError(err) {\n",
              "      outputDiv.innerHTML = `<div class=\"error\" style=\"color:red;\">${err}</div>`;\n",
              "      throw err;\n",
              "    }\n",
              "\n",
              "    function displayChart(vegaEmbed) {\n",
              "      vegaEmbed(outputDiv, spec, embedOpt)\n",
              "        .catch(err => showError(`Javascript Error: ${err.message}<br>This usually means there's a typo in your chart specification. See the javascript console for the full traceback.`));\n",
              "    }\n",
              "\n",
              "    if(typeof define === \"function\" && define.amd) {\n",
              "      requirejs.config({paths});\n",
              "      require([\"vega-embed\"], displayChart, err => showError(`Error loading script: ${err.message}`));\n",
              "    } else {\n",
              "      maybeLoadScript(\"vega\", \"5\")\n",
              "        .then(() => maybeLoadScript(\"vega-lite\", \"4.17.0\"))\n",
              "        .then(() => maybeLoadScript(\"vega-embed\", \"6\"))\n",
              "        .catch(showError)\n",
              "        .then(() => displayChart(vegaEmbed));\n",
              "    }\n",
              "  })({\"config\": {\"view\": {\"continuousWidth\": 400, \"continuousHeight\": 300, \"strokeWidth\": 0}, \"legend\": {\"labelColor\": \"rgb(102, 111, 137)\", \"labelFont\": \"Roboto, Arial, sans-serif\", \"labelFontSize\": 12, \"rowPadding\": 4, \"symbolSize\": 40, \"titleBaseline\": \"top\", \"titleColor\": \"rgb(25, 39, 78)\", \"titleFont\": \"Roboto, Arial, sans-serif\", \"titleFontSize\": 12, \"titleFontWeight\": \"bold\", \"titlePadding\": 8}}, \"vconcat\": [{\"hconcat\": [{\"vconcat\": [{\"mark\": {\"type\": \"text\", \"align\": \"center\", \"baseline\": \"middle\", \"color\": \"rgb(25, 39, 78)\", \"font\": \"Roboto, Arial, sans-serif\", \"fontWeight\": \"bold\", \"size\": 14}, \"encoding\": {\"text\": {\"value\": \"\"}}, \"height\": 19.5, \"width\": 32.0}, {\"layer\": [{\"mark\": {\"type\": \"text\", \"align\": \"center\", \"baseline\": \"middle\", \"color\": \"rgb(25, 39, 78)\", \"font\": \"Roboto, Arial, sans-serif\", \"fontWeight\": \"bold\", \"size\": 14}, \"encoding\": {\"text\": {\"value\": \"FPR\"}, \"y\": {\"axis\": {\"domain\": false, \"grid\": false, \"labels\": false, \"ticks\": false, \"title\": null}, \"field\": \"y_position\", \"scale\": {\"domain\": [3, 1]}, \"type\": \"quantitative\"}}, \"transform\": [{\"calculate\": \"1.2\", \"as\": \"y_position\"}]}, {\"mark\": {\"type\": \"text\", \"align\": \"center\", \"baseline\": \"middle\", \"color\": \"rgb(102, 111, 137)\", \"font\": \"Roboto, Arial, sans-serif\", \"size\": 12}, \"encoding\": {\"text\": {\"value\": \"Groups\"}, \"y\": {\"axis\": {\"domain\": false, \"grid\": false, \"labels\": false, \"ticks\": false, \"title\": null}, \"field\": \"y_position\", \"scale\": {\"domain\": [3, 1]}, \"type\": \"quantitative\"}}, \"transform\": [{\"calculate\": \"2\", \"as\": \"y_position\"}]}, {\"mark\": {\"type\": \"text\", \"align\": \"center\", \"baseline\": \"middle\", \"color\": \"rgb(102, 111, 137)\", \"font\": \"Roboto, Arial, sans-serif\", \"size\": 12}, \"encoding\": {\"text\": {\"value\": \"% Pop.\"}, \"y\": {\"axis\": {\"domain\": false, \"grid\": false, \"labels\": false, \"ticks\": false, \"title\": null}, \"field\": \"y_position\", \"scale\": {\"domain\": [3, 1]}, \"type\": \"quantitative\"}}, \"transform\": [{\"calculate\": \"2.7\", \"as\": \"y_position\"}]}], \"height\": 84.5, \"width\": 32.0}], \"bounds\": \"flush\", \"data\": {\"name\": \"data-79dd248bdaa0ea02c535240e8ad022c8\"}, \"spacing\": 26.0}, {\"hconcat\": [{\"vconcat\": [{\"data\": {\"name\": \"data-79dd248bdaa0ea02c535240e8ad022c8\"}, \"mark\": {\"type\": \"text\", \"align\": \"center\", \"baseline\": \"middle\", \"color\": \"rgb(25, 39, 78)\", \"font\": \"Roboto, Arial, sans-serif\", \"fontWeight\": \"bold\", \"size\": 14}, \"encoding\": {\"text\": {\"value\": \"Customer_Age_Bin\"}}, \"height\": 19.5, \"width\": 240.0}, {\"layer\": [{\"data\": {\"name\": \"data-0648884f34076ca4404072fa7f837079\"}, \"mark\": {\"type\": \"text\", \"align\": \"center\", \"baseline\": \"middle\", \"font\": \"Roboto, Arial, sans-serif\", \"fontWeight\": \"bold\", \"size\": 20}, \"encoding\": {\"color\": {\"field\": \"parity_result\", \"legend\": {\"offset\": 0, \"padding\": 20, \"title\": \"Parity Test\"}, \"scale\": {\"domain\": [\"Reference\", \"Pass\", \"Fail\"], \"range\": [\"rgb(102, 111, 137)\", \"rgb(0, 163, 158)\", \"rgb(211, 47, 47)\"]}, \"type\": \"ordinal\"}, \"text\": {\"value\": \"FAIL\"}, \"y\": {\"axis\": {\"domain\": false, \"grid\": false, \"labels\": false, \"ticks\": false, \"title\": null}, \"field\": \"y_position\", \"scale\": {\"domain\": [3, 1]}, \"type\": \"quantitative\"}}, \"transform\": [{\"calculate\": \"1\", \"as\": \"y_position\"}]}, {\"data\": {\"name\": \"data-c25ba822395f53cc57f2374d7b4218f0\"}, \"mark\": {\"type\": \"bar\", \"size\": 6, \"stroke\": \"white\"}, \"encoding\": {\"color\": {\"field\": \"fpr_parity_result\", \"legend\": null, \"scale\": {\"domain\": [\"Reference\", \"Pass\", \"Fail\"], \"range\": [\"rgb(102, 111, 137)\", \"rgb(0, 163, 158)\", \"rgb(211, 47, 47)\"]}, \"type\": \"ordinal\"}, \"tooltip\": [{\"field\": \"fpr_parity_result\", \"title\": \"Parity\", \"type\": \"nominal\"}, {\"field\": \"tooltip_group_size\", \"title\": \"Size\", \"type\": \"nominal\"}, {\"field\": \"tooltip_groups_name_size\", \"title\": \"Groups\", \"type\": \"nominal\"}], \"x\": {\"aggregate\": \"sum\", \"axis\": {\"domain\": false, \"grid\": false, \"labels\": false, \"ticks\": false, \"title\": null}, \"field\": \"group_size\", \"stack\": \"normalize\", \"type\": \"quantitative\"}, \"y\": {\"axis\": {\"domain\": false, \"grid\": false, \"labels\": false, \"ticks\": false, \"title\": null}, \"field\": \"y_position\", \"scale\": {\"domain\": [3, 1]}, \"type\": \"quantitative\"}}, \"transform\": [{\"calculate\": \"2.8\", \"as\": \"y_position\"}]}, {\"data\": {\"name\": \"data-6ac2eafeea7bc7eb7ee0ecdc18773e4c\"}, \"mark\": {\"type\": \"circle\", \"opacity\": 1}, \"encoding\": {\"color\": {\"field\": \"fpr_parity_result\", \"legend\": null, \"scale\": {\"domain\": [\"Reference\", \"Pass\", \"Fail\"], \"range\": [\"rgb(102, 111, 137)\", \"rgb(0, 163, 158)\", \"rgb(211, 47, 47)\"]}, \"type\": \"ordinal\"}, \"size\": {\"value\": 300}, \"tooltip\": [{\"field\": \"attribute_value\", \"title\": \"Group\", \"type\": \"nominal\"}, {\"field\": \"tooltip_group_size\", \"title\": \"Group Size\", \"type\": \"nominal\"}, {\"field\": \"tooltip_parity_test_explanation_fpr\", \"title\": \"Parity Test\", \"type\": \"nominal\"}, {\"field\": \"tooltip_disparity_explanation_fpr\", \"title\": \"Disparity\", \"type\": \"nominal\"}, {\"field\": \"fpr\", \"format\": \".2f\", \"title\": \"FPR\", \"type\": \"quantitative\"}], \"x\": {\"axis\": {\"domain\": false, \"grid\": false, \"labels\": false, \"ticks\": false, \"title\": null}, \"field\": \"fpr_disparity_rank\", \"scale\": {\"domain\": [-2, 2], \"nice\": false}, \"type\": \"quantitative\"}, \"y\": {\"axis\": {\"domain\": false, \"grid\": false, \"labels\": false, \"ticks\": false, \"title\": null}, \"field\": \"y_position\", \"scale\": {\"domain\": [3, 1]}, \"type\": \"quantitative\"}}, \"transform\": [{\"calculate\": \"2\", \"as\": \"y_position\"}]}], \"height\": 84.5, \"resolve\": {\"scale\": {\"x\": \"independent\"}}, \"width\": 240.0}], \"bounds\": \"flush\", \"spacing\": 26.0}], \"bounds\": \"flush\", \"spacing\": 288.0}], \"bounds\": \"flush\", \"spacing\": 80.0}, {\"layer\": [{\"mark\": {\"type\": \"text\", \"align\": \"left\", \"baseline\": \"top\", \"fill\": \"rgb(102, 111, 137)\", \"font\": \"Roboto, Arial, sans-serif\", \"fontSize\": 12, \"fontWeight\": \"normal\"}, \"encoding\": {\"text\": {\"value\": \"For a group to pass the parity test its disparity to the reference group cannot exceed the fairness threshold (1.25).\"}, \"x\": {\"value\": 24.0}, \"y\": {\"value\": 0}}}, {\"mark\": {\"type\": \"text\", \"align\": \"left\", \"baseline\": \"top\", \"fill\": \"rgb(102, 111, 137)\", \"font\": \"Roboto, Arial, sans-serif\", \"fontSize\": 12, \"fontWeight\": \"normal\"}, \"encoding\": {\"text\": {\"value\": \"An attribute passes the parity test for a given metric if all its groups pass the test.\"}, \"x\": {\"value\": 24.0}, \"y\": {\"value\": 15.0}}}], \"data\": {\"name\": \"data-79dd248bdaa0ea02c535240e8ad022c8\"}}], \"padding\": 15, \"usermeta\": {\"embedOptions\": {\"scaleFactor\": 5, \"downloadFileName\": \"summary_chart\"}}, \"$schema\": \"https://vega.github.io/schema/vega-lite/v4.17.0.json\", \"datasets\": {\"data-79dd248bdaa0ea02c535240e8ad022c8\": [{\"a\": 1, \"b\": 0}, {\"a\": 1, \"b\": 0}], \"data-0648884f34076ca4404072fa7f837079\": [{\"parity_result\": \"Fail\"}], \"data-c25ba822395f53cc57f2374d7b4218f0\": [{\"fpr_parity_result\": \"Fail\", \"attribute_name\": \"customer_age_bin\", \"total_entities\": 15000, \"group_size\": 2010, \"tooltip_groups_name_size\": \"1 (2,010)\", \"tooltip_group_size\": \"2,010 (13.40%)\"}, {\"fpr_parity_result\": \"Reference\", \"attribute_name\": \"customer_age_bin\", \"total_entities\": 15000, \"group_size\": 12990, \"tooltip_groups_name_size\": \"0 (12,990)\", \"tooltip_group_size\": \"12,990 (86.60%)\"}], \"data-6ac2eafeea7bc7eb7ee0ecdc18773e4c\": [{\"attribute_name\": \"customer_age_bin\", \"attribute_value\": \"0\", \"group_size\": 12990, \"total_entities\": 15000, \"ref_group_value\": \"0\", \"fpr\": 0.04032446767022853, \"fpr_disparity\": 1.0, \"fpr_disparity_scaled\": 0.0, \"fpr_parity_result\": \"Reference\", \"tooltip_parity_test_explanation_fpr\": \"Reference group\", \"tooltip_disparity_explanation_fpr\": \"Reference group\", \"tooltip_group_size\": \"12,990 (86.60%)\", \"fpr_disparity_rank\": 0.0, \"group_size_formatted\": \"12,990\", \"tooltip_groups_name_size\": \"0 (12,990)\"}, {\"attribute_name\": \"customer_age_bin\", \"attribute_value\": \"1\", \"group_size\": 2010, \"total_entities\": 15000, \"ref_group_value\": \"0\", \"fpr\": 0.12795477903391572, \"fpr_disparity\": 3.1731300231989046, \"fpr_disparity_scaled\": 2.1731300231989046, \"fpr_parity_result\": \"Fail\", \"tooltip_parity_test_explanation_fpr\": \"Fail. Above fairness threshold of 1.25\", \"tooltip_disparity_explanation_fpr\": \"3.17 times larger FPR than the reference group\", \"tooltip_group_size\": \"2,010 (13.40%)\", \"fpr_disparity_rank\": 1.0, \"group_size_formatted\": \"2,010\", \"tooltip_groups_name_size\": \"1 (2,010)\"}]}}, {\"mode\": \"vega-lite\"});\n",
              "</script>"
            ],
            "text/plain": [
              "alt.VConcatChart(...)"
            ]
          },
          "metadata": {},
          "execution_count": 14
        }
      ]
    },
    {
      "cell_type": "code",
      "source": [
        "from aequitas.plot import disparity\n",
        "\n",
        "disparity(disparities, [fairness_metric], attribute=fairness_column)"
      ],
      "metadata": {
        "colab": {
          "base_uri": "https://localhost:8080/",
          "height": 333
        },
        "id": "2Z39au5opa3l",
        "outputId": "263393d2-be30-4459-e8c6-50c7d5638774"
      },
      "execution_count": 15,
      "outputs": [
        {
          "output_type": "execute_result",
          "data": {
            "text/html": [
              "\n",
              "<div id=\"altair-viz-8c6d5519b1cf4ce9a98d58c6a94ba1e4\"></div>\n",
              "<script type=\"text/javascript\">\n",
              "  var VEGA_DEBUG = (typeof VEGA_DEBUG == \"undefined\") ? {} : VEGA_DEBUG;\n",
              "  (function(spec, embedOpt){\n",
              "    let outputDiv = document.currentScript.previousElementSibling;\n",
              "    if (outputDiv.id !== \"altair-viz-8c6d5519b1cf4ce9a98d58c6a94ba1e4\") {\n",
              "      outputDiv = document.getElementById(\"altair-viz-8c6d5519b1cf4ce9a98d58c6a94ba1e4\");\n",
              "    }\n",
              "    const paths = {\n",
              "      \"vega\": \"https://cdn.jsdelivr.net/npm//vega@5?noext\",\n",
              "      \"vega-lib\": \"https://cdn.jsdelivr.net/npm//vega-lib?noext\",\n",
              "      \"vega-lite\": \"https://cdn.jsdelivr.net/npm//vega-lite@4.17.0?noext\",\n",
              "      \"vega-embed\": \"https://cdn.jsdelivr.net/npm//vega-embed@6?noext\",\n",
              "    };\n",
              "\n",
              "    function maybeLoadScript(lib, version) {\n",
              "      var key = `${lib.replace(\"-\", \"\")}_version`;\n",
              "      return (VEGA_DEBUG[key] == version) ?\n",
              "        Promise.resolve(paths[lib]) :\n",
              "        new Promise(function(resolve, reject) {\n",
              "          var s = document.createElement('script');\n",
              "          document.getElementsByTagName(\"head\")[0].appendChild(s);\n",
              "          s.async = true;\n",
              "          s.onload = () => {\n",
              "            VEGA_DEBUG[key] = version;\n",
              "            return resolve(paths[lib]);\n",
              "          };\n",
              "          s.onerror = () => reject(`Error loading script: ${paths[lib]}`);\n",
              "          s.src = paths[lib];\n",
              "        });\n",
              "    }\n",
              "\n",
              "    function showError(err) {\n",
              "      outputDiv.innerHTML = `<div class=\"error\" style=\"color:red;\">${err}</div>`;\n",
              "      throw err;\n",
              "    }\n",
              "\n",
              "    function displayChart(vegaEmbed) {\n",
              "      vegaEmbed(outputDiv, spec, embedOpt)\n",
              "        .catch(err => showError(`Javascript Error: ${err.message}<br>This usually means there's a typo in your chart specification. See the javascript console for the full traceback.`));\n",
              "    }\n",
              "\n",
              "    if(typeof define === \"function\" && define.amd) {\n",
              "      requirejs.config({paths});\n",
              "      require([\"vega-embed\"], displayChart, err => showError(`Error loading script: ${err.message}`));\n",
              "    } else {\n",
              "      maybeLoadScript(\"vega\", \"5\")\n",
              "        .then(() => maybeLoadScript(\"vega-lite\", \"4.17.0\"))\n",
              "        .then(() => maybeLoadScript(\"vega-embed\", \"6\"))\n",
              "        .catch(showError)\n",
              "        .then(() => displayChart(vegaEmbed));\n",
              "    }\n",
              "  })({\"config\": {\"view\": {\"continuousWidth\": 400, \"continuousHeight\": 300, \"strokeWidth\": 0}, \"axisLeft\": {\"labelColor\": \"rgb(102, 111, 137)\", \"labelFont\": \"Roboto, Arial, sans-serif\", \"labelFontSize\": 16}, \"title\": {\"anchor\": \"start\", \"color\": \"rgb(25, 39, 78)\", \"font\": \"Roboto, Arial, sans-serif\", \"fontSize\": 20, \"fontWeight\": \"bold\", \"offset\": 20}}, \"layer\": [{\"data\": {\"name\": \"data-3cfa9b4d6f3fddf01801308f8cb5f93f\"}, \"mark\": {\"type\": \"rule\", \"stroke\": \"rgb(102, 111, 137)\", \"strokeWidth\": 1.25, \"tooltip\": null}, \"encoding\": {\"x\": {\"field\": \"x\", \"scale\": {\"domain\": [-3, 3], \"range\": [40.0, 760.0]}, \"type\": \"quantitative\"}, \"x2\": {\"field\": \"x2\"}, \"y\": {\"axis\": {\"domain\": false, \"labelAngle\": 0, \"labelPadding\": -30, \"orient\": \"left\", \"ticks\": false, \"title\": null}, \"field\": \"metric\", \"scale\": {\"domain\": [\"FPR\"], \"range\": [30, 225.0]}, \"type\": \"nominal\"}}}, {\"data\": {\"name\": \"data-79dd248bdaa0ea02c535240e8ad022c8\"}, \"mark\": {\"type\": \"rule\", \"stroke\": \"rgb(102, 111, 137)\", \"strokeDash\": [5, 5], \"strokeWidth\": 1}, \"encoding\": {\"tooltip\": {\"value\": \"0 [REF]\"}, \"x\": {\"value\": 400.0}, \"y\": {\"value\": 20.833333333333336}, \"y2\": {\"value\": 229.16666666666666}}}, {\"data\": {\"name\": \"data-3a1d065fd3aa317a7985f416b0b7774b\"}, \"mark\": {\"type\": \"text\", \"align\": \"center\", \"color\": \"rgb(102, 111, 137)\", \"font\": \"Roboto, Arial, sans-serif\", \"fontSize\": 12, \"fontWeight\": \"normal\", \"tooltip\": null}, \"encoding\": {\"text\": {\"field\": \"label\", \"type\": \"nominal\"}, \"x\": {\"field\": \"value\", \"scale\": {\"domain\": [-3, 3], \"range\": [40.0, 760.0]}, \"type\": \"quantitative\"}, \"y\": {\"value\": 17.5}}}, {\"layer\": [{\"mark\": {\"type\": \"text\", \"align\": \"left\", \"fill\": \"rgb(102, 111, 137)\", \"font\": \"Roboto, Arial, sans-serif\", \"fontSize\": 12, \"fontWeight\": \"normal\", \"tooltip\": null}, \"encoding\": {\"text\": {\"value\": \"Times Smaller\"}, \"x\": {\"value\": 40.0}, \"y\": {\"value\": 7.5}}}, {\"mark\": {\"type\": \"text\", \"align\": \"right\", \"fill\": \"rgb(102, 111, 137)\", \"font\": \"Roboto, Arial, sans-serif\", \"fontSize\": 12, \"fontWeight\": \"normal\", \"tooltip\": null}, \"encoding\": {\"text\": {\"value\": \"Times Larger\"}, \"x\": {\"value\": 760.0}, \"y\": {\"value\": 7.5}}}, {\"mark\": {\"type\": \"text\", \"align\": \"center\", \"fill\": \"rgb(102, 111, 137)\", \"font\": \"Roboto, Arial, sans-serif\", \"fontSize\": 12, \"fontWeight\": \"normal\", \"tooltip\": null}, \"encoding\": {\"text\": {\"value\": \"Equal\"}, \"x\": {\"value\": 400.0}, \"y\": {\"value\": 7.5}}}], \"data\": {\"name\": \"data-79dd248bdaa0ea02c535240e8ad022c8\"}}, {\"layer\": [{\"mark\": {\"type\": \"rule\", \"opacity\": 0.8, \"stroke\": \"rgb(211, 47, 47)\", \"strokeWidth\": 1.25, \"tooltip\": null}, \"encoding\": {\"x\": {\"field\": \"min\", \"scale\": {\"domain\": [-3, 3], \"range\": [40.0, 760.0]}, \"type\": \"quantitative\"}, \"y\": {\"value\": 25.0}, \"y2\": {\"value\": 225.0}}}, {\"mark\": {\"type\": \"rule\", \"opacity\": 0.8, \"stroke\": \"rgb(211, 47, 47)\", \"strokeWidth\": 1.25, \"tooltip\": null}, \"encoding\": {\"x\": {\"field\": \"max\", \"scale\": {\"domain\": [-3, 3], \"range\": [40.0, 760.0]}, \"type\": \"quantitative\"}, \"y\": {\"value\": 25.0}, \"y2\": {\"value\": 225.0}}}, {\"layer\": [{\"mark\": {\"type\": \"rect\", \"fill\": \"rgb(211, 47, 47)\", \"opacity\": 0.1, \"tooltip\": null}, \"encoding\": {\"x\": {\"field\": \"min\", \"scale\": {\"domain\": [-3, 3], \"range\": [40.0, 760.0]}, \"type\": \"quantitative\"}, \"x2\": {\"field\": \"lower_end\"}, \"y\": {\"value\": 25.0}, \"y2\": {\"value\": 225.0}}}, {\"mark\": {\"type\": \"rect\", \"fill\": \"rgb(211, 47, 47)\", \"opacity\": 0.1, \"tooltip\": null}, \"encoding\": {\"x\": {\"field\": \"max\", \"scale\": {\"domain\": [-3, 3], \"range\": [40.0, 760.0]}, \"type\": \"quantitative\"}, \"x2\": {\"field\": \"upper_end\"}, \"y\": {\"value\": 25.0}, \"y2\": {\"value\": 225.0}}}]}, {\"layer\": [{\"mark\": {\"type\": \"text\", \"align\": \"left\", \"baseline\": \"top\", \"fill\": \"rgb(211, 47, 47)\", \"font\": \"Roboto, Arial, sans-serif\", \"fontSize\": 12, \"fontWeight\": \"normal\", \"tooltip\": null}, \"encoding\": {\"text\": {\"value\": \"The metric value for any group should not be 1.25 (or more) times smaller or larger than that of the reference group 0.\"}, \"x\": {\"value\": 0}, \"y\": {\"value\": 233.33333333333334}}}], \"data\": {\"name\": \"data-79dd248bdaa0ea02c535240e8ad022c8\"}}], \"data\": {\"name\": \"data-6606b6a7ab47ab91739f2b90ebf15bf0\"}}, {\"layer\": [{\"data\": {\"name\": \"empty\"}, \"mark\": \"circle\"}, {\"data\": {\"name\": \"data-00e911e14f485fb89e6ece3baa54ced8\"}, \"mark\": {\"type\": \"circle\", \"cursor\": \"pointer\", \"opacity\": 0.2}, \"encoding\": {\"color\": {\"condition\": {\"field\": \"attribute_value\", \"legend\": null, \"scale\": {\"domain\": [\"0\", \"1\"], \"range\": [\"rgb(102, 111, 137)\", \"rgb(76, 136, 238)\", \"rgb(254, 97, 0)\", \"rgb(220, 38, 127)\", \"rgb(255, 176, 0)\", \"rgb(150, 95, 230)\"]}, \"type\": \"nominal\", \"selection\": \"selector001\"}, \"value\": \"rgb(225, 226, 231)\"}, \"size\": {\"field\": \"group_size\", \"legend\": null, \"scale\": {\"domain\": [0, 15588.0], \"range\": [0, 7853.981633974483]}, \"type\": \"quantitative\"}, \"tooltip\": [{\"field\": \"attribute_value\", \"title\": \"Group\", \"type\": \"nominal\"}, {\"field\": \"tooltip_group_size\", \"title\": \"Group Size\", \"type\": \"nominal\"}, {\"field\": \"tooltip_disparity_explanation_fpr\", \"title\": \"Disparity\", \"type\": \"nominal\"}, {\"field\": \"fpr\", \"format\": \".2f\", \"title\": \"FPR\", \"type\": \"quantitative\"}], \"x\": {\"axis\": {\"domain\": false, \"gridColor\": \"rgb(225, 226, 231)\", \"labels\": false, \"ticks\": false, \"title\": null, \"values\": [1, 2, 3, -3, -2, -1]}, \"field\": \"fpr_disparity_scaled\", \"scale\": {\"domain\": [-3, 3], \"range\": [40.0, 760.0]}, \"type\": \"quantitative\"}, \"y\": {\"axis\": {\"domain\": false, \"grid\": false, \"labels\": false, \"ticks\": false, \"title\": null}, \"field\": \"metric_variable\", \"scale\": {\"domain\": [\"FPR\"], \"range\": [30, 225.0]}, \"type\": \"nominal\"}}, \"selection\": {\"selector003\": {\"type\": \"multi\", \"empty\": \"all\", \"fields\": [\"attribute_value\"]}}, \"transform\": [{\"calculate\": \"'FPR'\", \"as\": \"metric_variable\"}]}, {\"layer\": [{\"data\": {\"name\": \"empty\"}, \"mark\": \"point\"}, {\"data\": {\"name\": \"data-00e911e14f485fb89e6ece3baa54ced8\"}, \"mark\": {\"type\": \"point\", \"cursor\": \"pointer\", \"filled\": true, \"size\": 60}, \"encoding\": {\"color\": {\"condition\": {\"field\": \"attribute_value\", \"legend\": null, \"scale\": {\"domain\": [\"0\", \"1\"], \"range\": [\"rgb(102, 111, 137)\", \"rgb(76, 136, 238)\", \"rgb(254, 97, 0)\", \"rgb(220, 38, 127)\", \"rgb(255, 176, 0)\", \"rgb(150, 95, 230)\"]}, \"type\": \"nominal\", \"selection\": \"selector001\"}, \"value\": \"rgb(225, 226, 231)\"}, \"shape\": {\"field\": \"attribute_value\", \"legend\": null, \"scale\": {\"domain\": [\"0\", \"1\"], \"range\": [\"cross\", \"circle\"]}, \"type\": \"nominal\"}, \"tooltip\": [{\"field\": \"attribute_value\", \"title\": \"Group\", \"type\": \"nominal\"}, {\"field\": \"tooltip_group_size\", \"title\": \"Group Size\", \"type\": \"nominal\"}, {\"field\": \"tooltip_disparity_explanation_fpr\", \"title\": \"Disparity\", \"type\": \"nominal\"}, {\"field\": \"fpr\", \"format\": \".2f\", \"title\": \"FPR\", \"type\": \"quantitative\"}], \"x\": {\"axis\": {\"domain\": false, \"gridColor\": \"rgb(225, 226, 231)\", \"labels\": false, \"ticks\": false, \"title\": null, \"values\": [1, 2, 3, -3, -2, -1]}, \"field\": \"fpr_disparity_scaled\", \"scale\": {\"domain\": [-3, 3], \"range\": [40.0, 760.0]}, \"type\": \"quantitative\"}, \"y\": {\"axis\": {\"domain\": false, \"grid\": false, \"labels\": false, \"ticks\": false, \"title\": null}, \"field\": \"metric_variable\", \"scale\": {\"domain\": [\"FPR\"], \"range\": [30, 225.0]}, \"type\": \"nominal\"}}, \"selection\": {\"selector002\": {\"type\": \"multi\", \"empty\": \"all\", \"fields\": [\"attribute_value\"]}}, \"transform\": [{\"calculate\": \"'FPR'\", \"as\": \"metric_variable\"}]}]}]}, {\"layer\": [{\"mark\": {\"type\": \"point\", \"cursor\": \"pointer\", \"filled\": true, \"opacity\": 1, \"size\": 40}, \"encoding\": {\"color\": {\"condition\": {\"field\": \"attribute_value\", \"legend\": null, \"scale\": {\"domain\": [\"0\", \"1\"], \"range\": [\"rgb(102, 111, 137)\", \"rgb(76, 136, 238)\", \"rgb(254, 97, 0)\", \"rgb(220, 38, 127)\", \"rgb(255, 176, 0)\", \"rgb(150, 95, 230)\"]}, \"type\": \"nominal\", \"selection\": \"selector001\"}, \"value\": \"rgb(225, 226, 231)\"}, \"shape\": {\"field\": \"attribute_value\", \"legend\": null, \"scale\": {\"domain\": [\"0\", \"1\"], \"range\": [\"cross\", \"circle\"]}, \"type\": \"nominal\"}, \"x\": {\"value\": 807.5682482323056}, \"y\": {\"axis\": {\"domain\": false, \"grid\": false, \"labels\": false, \"ticks\": false, \"title\": null}, \"field\": \"attribute_value\", \"scale\": {\"domain\": [\"0\", \"1\"], \"range\": [54, 86]}, \"type\": \"nominal\"}}, \"selection\": {\"selector001\": {\"type\": \"multi\", \"empty\": \"all\", \"fields\": [\"attribute_value\"]}}}, {\"mark\": {\"type\": \"text\", \"align\": \"left\", \"baseline\": \"middle\", \"cursor\": \"pointer\", \"font\": \"Roboto, Arial, sans-serif\", \"fontSize\": 12, \"fontWeight\": \"normal\"}, \"encoding\": {\"color\": {\"condition\": {\"field\": \"attribute_value\", \"legend\": null, \"scale\": {\"domain\": [\"0\", \"1\"], \"range\": [\"rgb(102, 111, 137)\", \"rgb(76, 136, 238)\", \"rgb(254, 97, 0)\", \"rgb(220, 38, 127)\", \"rgb(255, 176, 0)\", \"rgb(150, 95, 230)\"]}, \"type\": \"nominal\", \"selection\": \"selector001\"}, \"value\": \"rgb(225, 226, 231)\"}, \"text\": {\"field\": \"label\", \"type\": \"nominal\"}, \"x\": {\"value\": 818.1364964646111}, \"y\": {\"axis\": {\"domain\": false, \"grid\": false, \"labels\": false, \"ticks\": false, \"title\": null}, \"field\": \"attribute_value\", \"scale\": {\"domain\": [\"0\", \"1\"], \"range\": [54, 86]}, \"type\": \"nominal\"}}, \"selection\": {\"selector004\": {\"type\": \"multi\", \"empty\": \"all\", \"fields\": [\"attribute_value\"]}}}, {\"data\": {\"name\": \"data-79dd248bdaa0ea02c535240e8ad022c8\"}, \"mark\": {\"type\": \"text\", \"align\": \"left\", \"baseline\": \"top\", \"color\": \"rgb(25, 39, 78)\", \"font\": \"Roboto, Arial, sans-serif\", \"fontSize\": 12, \"fontWeight\": \"bold\"}, \"encoding\": {\"text\": {\"value\": \"(click to highlight)\"}, \"x\": {\"value\": 800}, \"y\": {\"value\": 34}}}, {\"data\": {\"name\": \"data-79dd248bdaa0ea02c535240e8ad022c8\"}, \"mark\": {\"type\": \"text\", \"align\": \"left\", \"baseline\": \"top\", \"color\": \"rgb(25, 39, 78)\", \"font\": \"Roboto, Arial, sans-serif\", \"fontSize\": 12, \"fontWeight\": \"bold\"}, \"encoding\": {\"text\": {\"value\": \"Groups\"}, \"x\": {\"value\": 800}, \"y\": {\"value\": 20}}}], \"data\": {\"name\": \"data-711e50c9c74ea5e50c1544827342332e\"}}], \"height\": 250, \"padding\": {\"top\": 15, \"bottom\": 7.0, \"left\": 15, \"right\": 15}, \"resolve\": {\"scale\": {\"size\": \"independent\", \"y\": \"independent\"}}, \"title\": \"Disparities on Customer_Age_Bin\", \"usermeta\": {\"embedOptions\": {\"scaleFactor\": 5, \"downloadFileName\": \"disparity_chart\"}}, \"width\": 800, \"$schema\": \"https://vega.github.io/schema/vega-lite/v4.17.0.json\", \"datasets\": {\"data-3cfa9b4d6f3fddf01801308f8cb5f93f\": [{\"metric\": \"FPR\", \"x\": -3, \"x2\": 3}], \"data-79dd248bdaa0ea02c535240e8ad022c8\": [{\"a\": 1, \"b\": 0}, {\"a\": 1, \"b\": 0}], \"data-3a1d065fd3aa317a7985f416b0b7774b\": [{\"value\": 1, \"label\": 2}, {\"value\": 2, \"label\": 3}, {\"value\": 3, \"label\": 4}, {\"value\": -3, \"label\": 4}, {\"value\": -2, \"label\": 3}, {\"value\": -1, \"label\": 2}, {\"value\": 0, \"label\": \"=\"}], \"data-6606b6a7ab47ab91739f2b90ebf15bf0\": [{\"min\": -0.25, \"max\": 0.25, \"lower_end\": -3, \"upper_end\": 3}], \"empty\": [{}], \"data-00e911e14f485fb89e6ece3baa54ced8\": [{\"attribute_name\": \"customer_age_bin\", \"attribute_value\": \"0\", \"group_size\": 12990, \"total_entities\": 15000, \"fpr\": 0.04032446767022853, \"fpr_disparity\": 1.0, \"fpr_disparity_scaled\": 0.0, \"tooltip_group_size\": \"12,990 (86.60%)\", \"tooltip_disparity_explanation_fpr\": \"Reference group\"}, {\"attribute_name\": \"customer_age_bin\", \"attribute_value\": \"1\", \"group_size\": 2010, \"total_entities\": 15000, \"fpr\": 0.12795477903391572, \"fpr_disparity\": 3.1731300231989046, \"fpr_disparity_scaled\": 2.1731300231989046, \"tooltip_group_size\": \"2,010 (13.40%)\", \"tooltip_disparity_explanation_fpr\": \"3.17 times larger FPR than the reference group\"}], \"data-711e50c9c74ea5e50c1544827342332e\": [{\"attribute_value\": \"0\", \"label\": \"0 [REF]\"}, {\"attribute_value\": \"1\", \"label\": \"1\"}]}}, {\"mode\": \"vega-lite\"});\n",
              "</script>"
            ],
            "text/plain": [
              "alt.LayerChart(...)"
            ]
          },
          "metadata": {},
          "execution_count": 15
        }
      ]
    },
    {
      "cell_type": "code",
      "source": [
        "disparities[[\"attribute_name\", \"attribute_value\", \"tpr\", \"fpr\", \"accuracy\", \"precision\"]]"
      ],
      "metadata": {
        "colab": {
          "base_uri": "https://localhost:8080/",
          "height": 112
        },
        "id": "Gl4USnW9Ac-s",
        "outputId": "38011782-734e-4603-e3b5-b752e5caa8bd"
      },
      "execution_count": 24,
      "outputs": [
        {
          "output_type": "execute_result",
          "data": {
            "text/plain": [
              "     attribute_name attribute_value       tpr       fpr  accuracy  precision\n",
              "0  customer_age_bin               0  0.467456  0.040324  0.953272   0.132550\n",
              "1  customer_age_bin               1  0.640625  0.127955  0.864677   0.141379"
            ],
            "text/html": [
              "\n",
              "  <div id=\"df-d43619fc-e9bb-483d-a4b9-c60d318afb4f\" class=\"colab-df-container\">\n",
              "    <div>\n",
              "<style scoped>\n",
              "    .dataframe tbody tr th:only-of-type {\n",
              "        vertical-align: middle;\n",
              "    }\n",
              "\n",
              "    .dataframe tbody tr th {\n",
              "        vertical-align: top;\n",
              "    }\n",
              "\n",
              "    .dataframe thead th {\n",
              "        text-align: right;\n",
              "    }\n",
              "</style>\n",
              "<table border=\"1\" class=\"dataframe\">\n",
              "  <thead>\n",
              "    <tr style=\"text-align: right;\">\n",
              "      <th></th>\n",
              "      <th>attribute_name</th>\n",
              "      <th>attribute_value</th>\n",
              "      <th>tpr</th>\n",
              "      <th>fpr</th>\n",
              "      <th>accuracy</th>\n",
              "      <th>precision</th>\n",
              "    </tr>\n",
              "  </thead>\n",
              "  <tbody>\n",
              "    <tr>\n",
              "      <th>0</th>\n",
              "      <td>customer_age_bin</td>\n",
              "      <td>0</td>\n",
              "      <td>0.467456</td>\n",
              "      <td>0.040324</td>\n",
              "      <td>0.953272</td>\n",
              "      <td>0.132550</td>\n",
              "    </tr>\n",
              "    <tr>\n",
              "      <th>1</th>\n",
              "      <td>customer_age_bin</td>\n",
              "      <td>1</td>\n",
              "      <td>0.640625</td>\n",
              "      <td>0.127955</td>\n",
              "      <td>0.864677</td>\n",
              "      <td>0.141379</td>\n",
              "    </tr>\n",
              "  </tbody>\n",
              "</table>\n",
              "</div>\n",
              "    <div class=\"colab-df-buttons\">\n",
              "\n",
              "  <div class=\"colab-df-container\">\n",
              "    <button class=\"colab-df-convert\" onclick=\"convertToInteractive('df-d43619fc-e9bb-483d-a4b9-c60d318afb4f')\"\n",
              "            title=\"Convert this dataframe to an interactive table.\"\n",
              "            style=\"display:none;\">\n",
              "\n",
              "  <svg xmlns=\"http://www.w3.org/2000/svg\" height=\"24px\" viewBox=\"0 -960 960 960\">\n",
              "    <path d=\"M120-120v-720h720v720H120Zm60-500h600v-160H180v160Zm220 220h160v-160H400v160Zm0 220h160v-160H400v160ZM180-400h160v-160H180v160Zm440 0h160v-160H620v160ZM180-180h160v-160H180v160Zm440 0h160v-160H620v160Z\"/>\n",
              "  </svg>\n",
              "    </button>\n",
              "\n",
              "  <style>\n",
              "    .colab-df-container {\n",
              "      display:flex;\n",
              "      gap: 12px;\n",
              "    }\n",
              "\n",
              "    .colab-df-convert {\n",
              "      background-color: #E8F0FE;\n",
              "      border: none;\n",
              "      border-radius: 50%;\n",
              "      cursor: pointer;\n",
              "      display: none;\n",
              "      fill: #1967D2;\n",
              "      height: 32px;\n",
              "      padding: 0 0 0 0;\n",
              "      width: 32px;\n",
              "    }\n",
              "\n",
              "    .colab-df-convert:hover {\n",
              "      background-color: #E2EBFA;\n",
              "      box-shadow: 0px 1px 2px rgba(60, 64, 67, 0.3), 0px 1px 3px 1px rgba(60, 64, 67, 0.15);\n",
              "      fill: #174EA6;\n",
              "    }\n",
              "\n",
              "    .colab-df-buttons div {\n",
              "      margin-bottom: 4px;\n",
              "    }\n",
              "\n",
              "    [theme=dark] .colab-df-convert {\n",
              "      background-color: #3B4455;\n",
              "      fill: #D2E3FC;\n",
              "    }\n",
              "\n",
              "    [theme=dark] .colab-df-convert:hover {\n",
              "      background-color: #434B5C;\n",
              "      box-shadow: 0px 1px 3px 1px rgba(0, 0, 0, 0.15);\n",
              "      filter: drop-shadow(0px 1px 2px rgba(0, 0, 0, 0.3));\n",
              "      fill: #FFFFFF;\n",
              "    }\n",
              "  </style>\n",
              "\n",
              "    <script>\n",
              "      const buttonEl =\n",
              "        document.querySelector('#df-d43619fc-e9bb-483d-a4b9-c60d318afb4f button.colab-df-convert');\n",
              "      buttonEl.style.display =\n",
              "        google.colab.kernel.accessAllowed ? 'block' : 'none';\n",
              "\n",
              "      async function convertToInteractive(key) {\n",
              "        const element = document.querySelector('#df-d43619fc-e9bb-483d-a4b9-c60d318afb4f');\n",
              "        const dataTable =\n",
              "          await google.colab.kernel.invokeFunction('convertToInteractive',\n",
              "                                                    [key], {});\n",
              "        if (!dataTable) return;\n",
              "\n",
              "        const docLinkHtml = 'Like what you see? Visit the ' +\n",
              "          '<a target=\"_blank\" href=https://colab.research.google.com/notebooks/data_table.ipynb>data table notebook</a>'\n",
              "          + ' to learn more about interactive tables.';\n",
              "        element.innerHTML = '';\n",
              "        dataTable['output_type'] = 'display_data';\n",
              "        await google.colab.output.renderOutput(dataTable, element);\n",
              "        const docLink = document.createElement('div');\n",
              "        docLink.innerHTML = docLinkHtml;\n",
              "        element.appendChild(docLink);\n",
              "      }\n",
              "    </script>\n",
              "  </div>\n",
              "\n",
              "\n",
              "<div id=\"df-9f18939d-f50e-4f0c-9664-a4b673550518\">\n",
              "  <button class=\"colab-df-quickchart\" onclick=\"quickchart('df-9f18939d-f50e-4f0c-9664-a4b673550518')\"\n",
              "            title=\"Suggest charts\"\n",
              "            style=\"display:none;\">\n",
              "\n",
              "<svg xmlns=\"http://www.w3.org/2000/svg\" height=\"24px\"viewBox=\"0 0 24 24\"\n",
              "     width=\"24px\">\n",
              "    <g>\n",
              "        <path d=\"M19 3H5c-1.1 0-2 .9-2 2v14c0 1.1.9 2 2 2h14c1.1 0 2-.9 2-2V5c0-1.1-.9-2-2-2zM9 17H7v-7h2v7zm4 0h-2V7h2v10zm4 0h-2v-4h2v4z\"/>\n",
              "    </g>\n",
              "</svg>\n",
              "  </button>\n",
              "\n",
              "<style>\n",
              "  .colab-df-quickchart {\n",
              "      --bg-color: #E8F0FE;\n",
              "      --fill-color: #1967D2;\n",
              "      --hover-bg-color: #E2EBFA;\n",
              "      --hover-fill-color: #174EA6;\n",
              "      --disabled-fill-color: #AAA;\n",
              "      --disabled-bg-color: #DDD;\n",
              "  }\n",
              "\n",
              "  [theme=dark] .colab-df-quickchart {\n",
              "      --bg-color: #3B4455;\n",
              "      --fill-color: #D2E3FC;\n",
              "      --hover-bg-color: #434B5C;\n",
              "      --hover-fill-color: #FFFFFF;\n",
              "      --disabled-bg-color: #3B4455;\n",
              "      --disabled-fill-color: #666;\n",
              "  }\n",
              "\n",
              "  .colab-df-quickchart {\n",
              "    background-color: var(--bg-color);\n",
              "    border: none;\n",
              "    border-radius: 50%;\n",
              "    cursor: pointer;\n",
              "    display: none;\n",
              "    fill: var(--fill-color);\n",
              "    height: 32px;\n",
              "    padding: 0;\n",
              "    width: 32px;\n",
              "  }\n",
              "\n",
              "  .colab-df-quickchart:hover {\n",
              "    background-color: var(--hover-bg-color);\n",
              "    box-shadow: 0 1px 2px rgba(60, 64, 67, 0.3), 0 1px 3px 1px rgba(60, 64, 67, 0.15);\n",
              "    fill: var(--button-hover-fill-color);\n",
              "  }\n",
              "\n",
              "  .colab-df-quickchart-complete:disabled,\n",
              "  .colab-df-quickchart-complete:disabled:hover {\n",
              "    background-color: var(--disabled-bg-color);\n",
              "    fill: var(--disabled-fill-color);\n",
              "    box-shadow: none;\n",
              "  }\n",
              "\n",
              "  .colab-df-spinner {\n",
              "    border: 2px solid var(--fill-color);\n",
              "    border-color: transparent;\n",
              "    border-bottom-color: var(--fill-color);\n",
              "    animation:\n",
              "      spin 1s steps(1) infinite;\n",
              "  }\n",
              "\n",
              "  @keyframes spin {\n",
              "    0% {\n",
              "      border-color: transparent;\n",
              "      border-bottom-color: var(--fill-color);\n",
              "      border-left-color: var(--fill-color);\n",
              "    }\n",
              "    20% {\n",
              "      border-color: transparent;\n",
              "      border-left-color: var(--fill-color);\n",
              "      border-top-color: var(--fill-color);\n",
              "    }\n",
              "    30% {\n",
              "      border-color: transparent;\n",
              "      border-left-color: var(--fill-color);\n",
              "      border-top-color: var(--fill-color);\n",
              "      border-right-color: var(--fill-color);\n",
              "    }\n",
              "    40% {\n",
              "      border-color: transparent;\n",
              "      border-right-color: var(--fill-color);\n",
              "      border-top-color: var(--fill-color);\n",
              "    }\n",
              "    60% {\n",
              "      border-color: transparent;\n",
              "      border-right-color: var(--fill-color);\n",
              "    }\n",
              "    80% {\n",
              "      border-color: transparent;\n",
              "      border-right-color: var(--fill-color);\n",
              "      border-bottom-color: var(--fill-color);\n",
              "    }\n",
              "    90% {\n",
              "      border-color: transparent;\n",
              "      border-bottom-color: var(--fill-color);\n",
              "    }\n",
              "  }\n",
              "</style>\n",
              "\n",
              "  <script>\n",
              "    async function quickchart(key) {\n",
              "      const quickchartButtonEl =\n",
              "        document.querySelector('#' + key + ' button');\n",
              "      quickchartButtonEl.disabled = true;  // To prevent multiple clicks.\n",
              "      quickchartButtonEl.classList.add('colab-df-spinner');\n",
              "      try {\n",
              "        const charts = await google.colab.kernel.invokeFunction(\n",
              "            'suggestCharts', [key], {});\n",
              "      } catch (error) {\n",
              "        console.error('Error during call to suggestCharts:', error);\n",
              "      }\n",
              "      quickchartButtonEl.classList.remove('colab-df-spinner');\n",
              "      quickchartButtonEl.classList.add('colab-df-quickchart-complete');\n",
              "    }\n",
              "    (() => {\n",
              "      let quickchartButtonEl =\n",
              "        document.querySelector('#df-9f18939d-f50e-4f0c-9664-a4b673550518 button');\n",
              "      quickchartButtonEl.style.display =\n",
              "        google.colab.kernel.accessAllowed ? 'block' : 'none';\n",
              "    })();\n",
              "  </script>\n",
              "</div>\n",
              "    </div>\n",
              "  </div>\n"
            ]
          },
          "metadata": {},
          "execution_count": 24
        }
      ]
    },
    {
      "cell_type": "markdown",
      "source": [
        "---\n",
        "## Correcting the predictions\n",
        "\n",
        "To correct the predictions, we will use a method available in Aequitas Flow.\n",
        "\n",
        "This method will calculate different thresholds to equalize a target metric for all the groups (in this case the fairness metric, FPR)."
      ],
      "metadata": {
        "id": "D2bNI3aKCrQg"
      }
    },
    {
      "cell_type": "code",
      "source": [
        "from aequitas.flow.methods.postprocessing import GroupThreshold\n",
        "\n",
        "threshold = GroupThreshold(\"fpr\", 0.05)\n",
        "\n",
        "threshold.fit(validation.X, preds_val, validation.y, validation.s)"
      ],
      "metadata": {
        "colab": {
          "base_uri": "https://localhost:8080/"
        },
        "id": "LPyuJ3cH7Dak",
        "outputId": "7621d842-dc06-43d3-87ad-7aab2b8bb3fd"
      },
      "execution_count": 16,
      "outputs": [
        {
          "output_type": "stream",
          "name": "stdout",
          "text": [
            "[INFO] 2024-01-12 09:16:50 methods.postprocessing.Threshold - Instantiating postprocessing Threshold.\n",
            "[INFO] 2024-01-12 09:16:50 methods.postprocessing.GroupThreshold - Instantiating postprocessing GroupThreshold.\n",
            "[INFO] 2024-01-12 09:16:50 methods.postprocessing.Threshold - Instantiating postprocessing Threshold.\n",
            "[INFO] 2024-01-12 09:16:50 methods.postprocessing.Threshold - Computing threshold.\n",
            "[INFO] 2024-01-12 09:16:50 methods.postprocessing.Threshold - Finished computing threshold.\n",
            "[INFO] 2024-01-12 09:16:50 methods.postprocessing.Threshold - Instantiating postprocessing Threshold.\n",
            "[INFO] 2024-01-12 09:16:50 methods.postprocessing.Threshold - Computing threshold.\n",
            "[INFO] 2024-01-12 09:16:50 methods.postprocessing.Threshold - Finished computing threshold.\n"
          ]
        }
      ]
    },
    {
      "cell_type": "code",
      "source": [
        "corrected_bin_preds_test = threshold.transform(test.X, preds_test, test.s)"
      ],
      "metadata": {
        "colab": {
          "base_uri": "https://localhost:8080/"
        },
        "id": "-zjd5v-C9iII",
        "outputId": "0d70aeac-87c5-4ad1-90f5-420298429535"
      },
      "execution_count": 17,
      "outputs": [
        {
          "output_type": "stream",
          "name": "stdout",
          "text": [
            "[INFO] 2024-01-12 09:16:50 methods.postprocessing.Threshold - Transforming predictions.\n",
            "[INFO] 2024-01-12 09:16:50 methods.postprocessing.Threshold - Finished transforming predictions.\n",
            "[INFO] 2024-01-12 09:16:50 methods.postprocessing.Threshold - Transforming predictions.\n",
            "[INFO] 2024-01-12 09:16:50 methods.postprocessing.Threshold - Finished transforming predictions.\n"
          ]
        }
      ]
    },
    {
      "cell_type": "code",
      "source": [
        "audit_df = test.s.astype(str).to_frame().copy()\n",
        "audit_df[\"score\"] = corrected_bin_preds_test\n",
        "audit_df[\"label\"] = test.y"
      ],
      "metadata": {
        "id": "1oCrnkkuuVEr"
      },
      "execution_count": 18,
      "outputs": []
    },
    {
      "cell_type": "markdown",
      "source": [
        "Let's see the impact of this correction in the global recall of the model, with the updated binarized predictions:"
      ],
      "metadata": {
        "id": "TaGxbM_u_kOT"
      }
    },
    {
      "cell_type": "code",
      "source": [
        "pd.Series(evaluate_performance(audit_df[\"label\"], audit_df[\"score\"]))[performance_metric]"
      ],
      "metadata": {
        "colab": {
          "base_uri": "https://localhost:8080/"
        },
        "id": "YAs_u5rXuPLz",
        "outputId": "281d28be-ebc0-4cbc-91c0-054a2dba994f"
      },
      "execution_count": 19,
      "outputs": [
        {
          "output_type": "execute_result",
          "data": {
            "text/plain": [
              "0.5150214592274678"
            ]
          },
          "metadata": {},
          "execution_count": 19
        }
      ]
    },
    {
      "cell_type": "markdown",
      "source": [
        "When compared to the previous value of recall, there is no drop in performance.\n",
        "\n",
        "Let's observe the fairness audit:"
      ],
      "metadata": {
        "id": "-WYKciu6_x6y"
      }
    },
    {
      "cell_type": "code",
      "source": [
        "g = Group()\n",
        "disparities_fixed = g.calculate_disparities(audit_df, \"score\", \"label\", [fairness_column], {fairness_column: reference_group})\n",
        "\n",
        "summary(disparities_fixed, [fairness_metric])"
      ],
      "metadata": {
        "colab": {
          "base_uri": "https://localhost:8080/",
          "height": 229
        },
        "id": "YoWIUAhm-WXU",
        "outputId": "fb63e2f1-a47e-4f22-a789-ed68b7528b85"
      },
      "execution_count": 20,
      "outputs": [
        {
          "output_type": "execute_result",
          "data": {
            "text/html": [
              "\n",
              "<div id=\"altair-viz-c5c908ee4f434375bf60e9158a9c3398\"></div>\n",
              "<script type=\"text/javascript\">\n",
              "  var VEGA_DEBUG = (typeof VEGA_DEBUG == \"undefined\") ? {} : VEGA_DEBUG;\n",
              "  (function(spec, embedOpt){\n",
              "    let outputDiv = document.currentScript.previousElementSibling;\n",
              "    if (outputDiv.id !== \"altair-viz-c5c908ee4f434375bf60e9158a9c3398\") {\n",
              "      outputDiv = document.getElementById(\"altair-viz-c5c908ee4f434375bf60e9158a9c3398\");\n",
              "    }\n",
              "    const paths = {\n",
              "      \"vega\": \"https://cdn.jsdelivr.net/npm//vega@5?noext\",\n",
              "      \"vega-lib\": \"https://cdn.jsdelivr.net/npm//vega-lib?noext\",\n",
              "      \"vega-lite\": \"https://cdn.jsdelivr.net/npm//vega-lite@4.17.0?noext\",\n",
              "      \"vega-embed\": \"https://cdn.jsdelivr.net/npm//vega-embed@6?noext\",\n",
              "    };\n",
              "\n",
              "    function maybeLoadScript(lib, version) {\n",
              "      var key = `${lib.replace(\"-\", \"\")}_version`;\n",
              "      return (VEGA_DEBUG[key] == version) ?\n",
              "        Promise.resolve(paths[lib]) :\n",
              "        new Promise(function(resolve, reject) {\n",
              "          var s = document.createElement('script');\n",
              "          document.getElementsByTagName(\"head\")[0].appendChild(s);\n",
              "          s.async = true;\n",
              "          s.onload = () => {\n",
              "            VEGA_DEBUG[key] = version;\n",
              "            return resolve(paths[lib]);\n",
              "          };\n",
              "          s.onerror = () => reject(`Error loading script: ${paths[lib]}`);\n",
              "          s.src = paths[lib];\n",
              "        });\n",
              "    }\n",
              "\n",
              "    function showError(err) {\n",
              "      outputDiv.innerHTML = `<div class=\"error\" style=\"color:red;\">${err}</div>`;\n",
              "      throw err;\n",
              "    }\n",
              "\n",
              "    function displayChart(vegaEmbed) {\n",
              "      vegaEmbed(outputDiv, spec, embedOpt)\n",
              "        .catch(err => showError(`Javascript Error: ${err.message}<br>This usually means there's a typo in your chart specification. See the javascript console for the full traceback.`));\n",
              "    }\n",
              "\n",
              "    if(typeof define === \"function\" && define.amd) {\n",
              "      requirejs.config({paths});\n",
              "      require([\"vega-embed\"], displayChart, err => showError(`Error loading script: ${err.message}`));\n",
              "    } else {\n",
              "      maybeLoadScript(\"vega\", \"5\")\n",
              "        .then(() => maybeLoadScript(\"vega-lite\", \"4.17.0\"))\n",
              "        .then(() => maybeLoadScript(\"vega-embed\", \"6\"))\n",
              "        .catch(showError)\n",
              "        .then(() => displayChart(vegaEmbed));\n",
              "    }\n",
              "  })({\"config\": {\"view\": {\"continuousWidth\": 400, \"continuousHeight\": 300, \"strokeWidth\": 0}, \"legend\": {\"labelColor\": \"rgb(102, 111, 137)\", \"labelFont\": \"Roboto, Arial, sans-serif\", \"labelFontSize\": 12, \"rowPadding\": 4, \"symbolSize\": 40, \"titleBaseline\": \"top\", \"titleColor\": \"rgb(25, 39, 78)\", \"titleFont\": \"Roboto, Arial, sans-serif\", \"titleFontSize\": 12, \"titleFontWeight\": \"bold\", \"titlePadding\": 8}}, \"vconcat\": [{\"hconcat\": [{\"vconcat\": [{\"mark\": {\"type\": \"text\", \"align\": \"center\", \"baseline\": \"middle\", \"color\": \"rgb(25, 39, 78)\", \"font\": \"Roboto, Arial, sans-serif\", \"fontWeight\": \"bold\", \"size\": 14}, \"encoding\": {\"text\": {\"value\": \"\"}}, \"height\": 19.5, \"width\": 32.0}, {\"layer\": [{\"mark\": {\"type\": \"text\", \"align\": \"center\", \"baseline\": \"middle\", \"color\": \"rgb(25, 39, 78)\", \"font\": \"Roboto, Arial, sans-serif\", \"fontWeight\": \"bold\", \"size\": 14}, \"encoding\": {\"text\": {\"value\": \"FPR\"}, \"y\": {\"axis\": {\"domain\": false, \"grid\": false, \"labels\": false, \"ticks\": false, \"title\": null}, \"field\": \"y_position\", \"scale\": {\"domain\": [3, 1]}, \"type\": \"quantitative\"}}, \"transform\": [{\"calculate\": \"1.2\", \"as\": \"y_position\"}]}, {\"mark\": {\"type\": \"text\", \"align\": \"center\", \"baseline\": \"middle\", \"color\": \"rgb(102, 111, 137)\", \"font\": \"Roboto, Arial, sans-serif\", \"size\": 12}, \"encoding\": {\"text\": {\"value\": \"Groups\"}, \"y\": {\"axis\": {\"domain\": false, \"grid\": false, \"labels\": false, \"ticks\": false, \"title\": null}, \"field\": \"y_position\", \"scale\": {\"domain\": [3, 1]}, \"type\": \"quantitative\"}}, \"transform\": [{\"calculate\": \"2\", \"as\": \"y_position\"}]}, {\"mark\": {\"type\": \"text\", \"align\": \"center\", \"baseline\": \"middle\", \"color\": \"rgb(102, 111, 137)\", \"font\": \"Roboto, Arial, sans-serif\", \"size\": 12}, \"encoding\": {\"text\": {\"value\": \"% Pop.\"}, \"y\": {\"axis\": {\"domain\": false, \"grid\": false, \"labels\": false, \"ticks\": false, \"title\": null}, \"field\": \"y_position\", \"scale\": {\"domain\": [3, 1]}, \"type\": \"quantitative\"}}, \"transform\": [{\"calculate\": \"2.7\", \"as\": \"y_position\"}]}], \"height\": 84.5, \"width\": 32.0}], \"bounds\": \"flush\", \"data\": {\"name\": \"data-79dd248bdaa0ea02c535240e8ad022c8\"}, \"spacing\": 26.0}, {\"hconcat\": [{\"vconcat\": [{\"data\": {\"name\": \"data-79dd248bdaa0ea02c535240e8ad022c8\"}, \"mark\": {\"type\": \"text\", \"align\": \"center\", \"baseline\": \"middle\", \"color\": \"rgb(25, 39, 78)\", \"font\": \"Roboto, Arial, sans-serif\", \"fontWeight\": \"bold\", \"size\": 14}, \"encoding\": {\"text\": {\"value\": \"Customer_Age_Bin\"}}, \"height\": 19.5, \"width\": 240.0}, {\"layer\": [{\"data\": {\"name\": \"data-126d4ae515fac080ab56453e43289c66\"}, \"mark\": {\"type\": \"text\", \"align\": \"center\", \"baseline\": \"middle\", \"font\": \"Roboto, Arial, sans-serif\", \"fontWeight\": \"bold\", \"size\": 20}, \"encoding\": {\"color\": {\"field\": \"parity_result\", \"legend\": {\"offset\": 0, \"padding\": 20, \"title\": \"Parity Test\"}, \"scale\": {\"domain\": [\"Reference\", \"Pass\", \"Fail\"], \"range\": [\"rgb(102, 111, 137)\", \"rgb(0, 163, 158)\", \"rgb(211, 47, 47)\"]}, \"type\": \"ordinal\"}, \"text\": {\"value\": \"PASS\"}, \"y\": {\"axis\": {\"domain\": false, \"grid\": false, \"labels\": false, \"ticks\": false, \"title\": null}, \"field\": \"y_position\", \"scale\": {\"domain\": [3, 1]}, \"type\": \"quantitative\"}}, \"transform\": [{\"calculate\": \"1\", \"as\": \"y_position\"}]}, {\"data\": {\"name\": \"data-87e19190d7e3a4f7eba06ad8eb87b4fa\"}, \"mark\": {\"type\": \"bar\", \"size\": 6, \"stroke\": \"white\"}, \"encoding\": {\"color\": {\"field\": \"fpr_parity_result\", \"legend\": null, \"scale\": {\"domain\": [\"Reference\", \"Pass\", \"Fail\"], \"range\": [\"rgb(102, 111, 137)\", \"rgb(0, 163, 158)\", \"rgb(211, 47, 47)\"]}, \"type\": \"ordinal\"}, \"tooltip\": [{\"field\": \"fpr_parity_result\", \"title\": \"Parity\", \"type\": \"nominal\"}, {\"field\": \"tooltip_group_size\", \"title\": \"Size\", \"type\": \"nominal\"}, {\"field\": \"tooltip_groups_name_size\", \"title\": \"Groups\", \"type\": \"nominal\"}], \"x\": {\"aggregate\": \"sum\", \"axis\": {\"domain\": false, \"grid\": false, \"labels\": false, \"ticks\": false, \"title\": null}, \"field\": \"group_size\", \"stack\": \"normalize\", \"type\": \"quantitative\"}, \"y\": {\"axis\": {\"domain\": false, \"grid\": false, \"labels\": false, \"ticks\": false, \"title\": null}, \"field\": \"y_position\", \"scale\": {\"domain\": [3, 1]}, \"type\": \"quantitative\"}}, \"transform\": [{\"calculate\": \"2.8\", \"as\": \"y_position\"}]}, {\"data\": {\"name\": \"data-a57f630b14d7b206ad3569dbe0bc8519\"}, \"mark\": {\"type\": \"circle\", \"opacity\": 1}, \"encoding\": {\"color\": {\"field\": \"fpr_parity_result\", \"legend\": null, \"scale\": {\"domain\": [\"Reference\", \"Pass\", \"Fail\"], \"range\": [\"rgb(102, 111, 137)\", \"rgb(0, 163, 158)\", \"rgb(211, 47, 47)\"]}, \"type\": \"ordinal\"}, \"size\": {\"value\": 300}, \"tooltip\": [{\"field\": \"attribute_value\", \"title\": \"Group\", \"type\": \"nominal\"}, {\"field\": \"tooltip_group_size\", \"title\": \"Group Size\", \"type\": \"nominal\"}, {\"field\": \"tooltip_parity_test_explanation_fpr\", \"title\": \"Parity Test\", \"type\": \"nominal\"}, {\"field\": \"tooltip_disparity_explanation_fpr\", \"title\": \"Disparity\", \"type\": \"nominal\"}, {\"field\": \"fpr\", \"format\": \".2f\", \"title\": \"FPR\", \"type\": \"quantitative\"}], \"x\": {\"axis\": {\"domain\": false, \"grid\": false, \"labels\": false, \"ticks\": false, \"title\": null}, \"field\": \"fpr_disparity_rank\", \"scale\": {\"domain\": [-2, 2], \"nice\": false}, \"type\": \"quantitative\"}, \"y\": {\"axis\": {\"domain\": false, \"grid\": false, \"labels\": false, \"ticks\": false, \"title\": null}, \"field\": \"y_position\", \"scale\": {\"domain\": [3, 1]}, \"type\": \"quantitative\"}}, \"transform\": [{\"calculate\": \"2\", \"as\": \"y_position\"}]}], \"height\": 84.5, \"resolve\": {\"scale\": {\"x\": \"independent\"}}, \"width\": 240.0}], \"bounds\": \"flush\", \"spacing\": 26.0}], \"bounds\": \"flush\", \"spacing\": 288.0}], \"bounds\": \"flush\", \"spacing\": 80.0}, {\"layer\": [{\"mark\": {\"type\": \"text\", \"align\": \"left\", \"baseline\": \"top\", \"fill\": \"rgb(102, 111, 137)\", \"font\": \"Roboto, Arial, sans-serif\", \"fontSize\": 12, \"fontWeight\": \"normal\"}, \"encoding\": {\"text\": {\"value\": \"For a group to pass the parity test its disparity to the reference group cannot exceed the fairness threshold (1.25).\"}, \"x\": {\"value\": 24.0}, \"y\": {\"value\": 0}}}, {\"mark\": {\"type\": \"text\", \"align\": \"left\", \"baseline\": \"top\", \"fill\": \"rgb(102, 111, 137)\", \"font\": \"Roboto, Arial, sans-serif\", \"fontSize\": 12, \"fontWeight\": \"normal\"}, \"encoding\": {\"text\": {\"value\": \"An attribute passes the parity test for a given metric if all its groups pass the test.\"}, \"x\": {\"value\": 24.0}, \"y\": {\"value\": 15.0}}}], \"data\": {\"name\": \"data-79dd248bdaa0ea02c535240e8ad022c8\"}}], \"padding\": 15, \"usermeta\": {\"embedOptions\": {\"scaleFactor\": 5, \"downloadFileName\": \"summary_chart\"}}, \"$schema\": \"https://vega.github.io/schema/vega-lite/v4.17.0.json\", \"datasets\": {\"data-79dd248bdaa0ea02c535240e8ad022c8\": [{\"a\": 1, \"b\": 0}, {\"a\": 1, \"b\": 0}], \"data-126d4ae515fac080ab56453e43289c66\": [{\"parity_result\": \"Pass\"}], \"data-87e19190d7e3a4f7eba06ad8eb87b4fa\": [{\"fpr_parity_result\": \"Pass\", \"attribute_name\": \"customer_age_bin\", \"total_entities\": 15000, \"group_size\": 2010, \"tooltip_groups_name_size\": \"1 (2,010)\", \"tooltip_group_size\": \"2,010 (13.40%)\"}, {\"fpr_parity_result\": \"Reference\", \"attribute_name\": \"customer_age_bin\", \"total_entities\": 15000, \"group_size\": 12990, \"tooltip_groups_name_size\": \"0 (12,990)\", \"tooltip_group_size\": \"12,990 (86.60%)\"}], \"data-a57f630b14d7b206ad3569dbe0bc8519\": [{\"attribute_name\": \"customer_age_bin\", \"attribute_value\": \"0\", \"group_size\": 12990, \"total_entities\": 15000, \"ref_group_value\": \"0\", \"fpr\": 0.06029170891506123, \"fpr_disparity\": 1.0, \"fpr_disparity_scaled\": 0.0, \"fpr_parity_result\": \"Reference\", \"tooltip_parity_test_explanation_fpr\": \"Reference group\", \"tooltip_disparity_explanation_fpr\": \"Reference group\", \"tooltip_group_size\": \"12,990 (86.60%)\", \"fpr_disparity_rank\": 0.0, \"group_size_formatted\": \"12,990\", \"tooltip_groups_name_size\": \"0 (12,990)\"}, {\"attribute_name\": \"customer_age_bin\", \"attribute_value\": \"1\", \"group_size\": 2010, \"total_entities\": 15000, \"ref_group_value\": \"0\", \"fpr\": 0.06269270298047276, \"fpr_disparity\": 1.0398229559025114, \"fpr_disparity_scaled\": 0.03982295590251139, \"fpr_parity_result\": \"Pass\", \"tooltip_parity_test_explanation_fpr\": \"Pass. Below fairness threshold of 1.25\", \"tooltip_disparity_explanation_fpr\": \"1.04 times larger FPR than the reference group\", \"tooltip_group_size\": \"2,010 (13.40%)\", \"fpr_disparity_rank\": 1.0, \"group_size_formatted\": \"2,010\", \"tooltip_groups_name_size\": \"1 (2,010)\"}]}}, {\"mode\": \"vega-lite\"});\n",
              "</script>"
            ],
            "text/plain": [
              "alt.VConcatChart(...)"
            ]
          },
          "metadata": {},
          "execution_count": 20
        }
      ]
    },
    {
      "cell_type": "code",
      "source": [
        "from aequitas.plot import disparity\n",
        "\n",
        "disparity(disparities_fixed, [fairness_metric], attribute=fairness_column)"
      ],
      "metadata": {
        "colab": {
          "base_uri": "https://localhost:8080/",
          "height": 333
        },
        "id": "wVA6NSSbp7at",
        "outputId": "fb230580-883d-4025-f12f-4f5d6f3468d8"
      },
      "execution_count": 21,
      "outputs": [
        {
          "output_type": "execute_result",
          "data": {
            "text/html": [
              "\n",
              "<div id=\"altair-viz-e7ab9b464f9f4408b674834aca13df37\"></div>\n",
              "<script type=\"text/javascript\">\n",
              "  var VEGA_DEBUG = (typeof VEGA_DEBUG == \"undefined\") ? {} : VEGA_DEBUG;\n",
              "  (function(spec, embedOpt){\n",
              "    let outputDiv = document.currentScript.previousElementSibling;\n",
              "    if (outputDiv.id !== \"altair-viz-e7ab9b464f9f4408b674834aca13df37\") {\n",
              "      outputDiv = document.getElementById(\"altair-viz-e7ab9b464f9f4408b674834aca13df37\");\n",
              "    }\n",
              "    const paths = {\n",
              "      \"vega\": \"https://cdn.jsdelivr.net/npm//vega@5?noext\",\n",
              "      \"vega-lib\": \"https://cdn.jsdelivr.net/npm//vega-lib?noext\",\n",
              "      \"vega-lite\": \"https://cdn.jsdelivr.net/npm//vega-lite@4.17.0?noext\",\n",
              "      \"vega-embed\": \"https://cdn.jsdelivr.net/npm//vega-embed@6?noext\",\n",
              "    };\n",
              "\n",
              "    function maybeLoadScript(lib, version) {\n",
              "      var key = `${lib.replace(\"-\", \"\")}_version`;\n",
              "      return (VEGA_DEBUG[key] == version) ?\n",
              "        Promise.resolve(paths[lib]) :\n",
              "        new Promise(function(resolve, reject) {\n",
              "          var s = document.createElement('script');\n",
              "          document.getElementsByTagName(\"head\")[0].appendChild(s);\n",
              "          s.async = true;\n",
              "          s.onload = () => {\n",
              "            VEGA_DEBUG[key] = version;\n",
              "            return resolve(paths[lib]);\n",
              "          };\n",
              "          s.onerror = () => reject(`Error loading script: ${paths[lib]}`);\n",
              "          s.src = paths[lib];\n",
              "        });\n",
              "    }\n",
              "\n",
              "    function showError(err) {\n",
              "      outputDiv.innerHTML = `<div class=\"error\" style=\"color:red;\">${err}</div>`;\n",
              "      throw err;\n",
              "    }\n",
              "\n",
              "    function displayChart(vegaEmbed) {\n",
              "      vegaEmbed(outputDiv, spec, embedOpt)\n",
              "        .catch(err => showError(`Javascript Error: ${err.message}<br>This usually means there's a typo in your chart specification. See the javascript console for the full traceback.`));\n",
              "    }\n",
              "\n",
              "    if(typeof define === \"function\" && define.amd) {\n",
              "      requirejs.config({paths});\n",
              "      require([\"vega-embed\"], displayChart, err => showError(`Error loading script: ${err.message}`));\n",
              "    } else {\n",
              "      maybeLoadScript(\"vega\", \"5\")\n",
              "        .then(() => maybeLoadScript(\"vega-lite\", \"4.17.0\"))\n",
              "        .then(() => maybeLoadScript(\"vega-embed\", \"6\"))\n",
              "        .catch(showError)\n",
              "        .then(() => displayChart(vegaEmbed));\n",
              "    }\n",
              "  })({\"config\": {\"view\": {\"continuousWidth\": 400, \"continuousHeight\": 300, \"strokeWidth\": 0}, \"axisLeft\": {\"labelColor\": \"rgb(102, 111, 137)\", \"labelFont\": \"Roboto, Arial, sans-serif\", \"labelFontSize\": 16}, \"title\": {\"anchor\": \"start\", \"color\": \"rgb(25, 39, 78)\", \"font\": \"Roboto, Arial, sans-serif\", \"fontSize\": 20, \"fontWeight\": \"bold\", \"offset\": 20}}, \"layer\": [{\"data\": {\"name\": \"data-38121450c6697f570e9bf3f18efe866c\"}, \"mark\": {\"type\": \"rule\", \"stroke\": \"rgb(102, 111, 137)\", \"strokeWidth\": 1.25, \"tooltip\": null}, \"encoding\": {\"x\": {\"field\": \"x\", \"scale\": {\"domain\": [-2, 2], \"range\": [40.0, 760.0]}, \"type\": \"quantitative\"}, \"x2\": {\"field\": \"x2\"}, \"y\": {\"axis\": {\"domain\": false, \"labelAngle\": 0, \"labelPadding\": -30, \"orient\": \"left\", \"ticks\": false, \"title\": null}, \"field\": \"metric\", \"scale\": {\"domain\": [\"FPR\"], \"range\": [30, 225.0]}, \"type\": \"nominal\"}}}, {\"data\": {\"name\": \"data-79dd248bdaa0ea02c535240e8ad022c8\"}, \"mark\": {\"type\": \"rule\", \"stroke\": \"rgb(102, 111, 137)\", \"strokeDash\": [5, 5], \"strokeWidth\": 1}, \"encoding\": {\"tooltip\": {\"value\": \"0 [REF]\"}, \"x\": {\"value\": 400.0}, \"y\": {\"value\": 20.833333333333336}, \"y2\": {\"value\": 229.16666666666666}}}, {\"data\": {\"name\": \"data-c233327f4cd9b4c2df31bf8015c83e4a\"}, \"mark\": {\"type\": \"text\", \"align\": \"center\", \"color\": \"rgb(102, 111, 137)\", \"font\": \"Roboto, Arial, sans-serif\", \"fontSize\": 12, \"fontWeight\": \"normal\", \"tooltip\": null}, \"encoding\": {\"text\": {\"field\": \"label\", \"type\": \"nominal\"}, \"x\": {\"field\": \"value\", \"scale\": {\"domain\": [-2, 2], \"range\": [40.0, 760.0]}, \"type\": \"quantitative\"}, \"y\": {\"value\": 17.5}}}, {\"layer\": [{\"mark\": {\"type\": \"text\", \"align\": \"left\", \"fill\": \"rgb(102, 111, 137)\", \"font\": \"Roboto, Arial, sans-serif\", \"fontSize\": 12, \"fontWeight\": \"normal\", \"tooltip\": null}, \"encoding\": {\"text\": {\"value\": \"Times Smaller\"}, \"x\": {\"value\": 40.0}, \"y\": {\"value\": 7.5}}}, {\"mark\": {\"type\": \"text\", \"align\": \"right\", \"fill\": \"rgb(102, 111, 137)\", \"font\": \"Roboto, Arial, sans-serif\", \"fontSize\": 12, \"fontWeight\": \"normal\", \"tooltip\": null}, \"encoding\": {\"text\": {\"value\": \"Times Larger\"}, \"x\": {\"value\": 760.0}, \"y\": {\"value\": 7.5}}}, {\"mark\": {\"type\": \"text\", \"align\": \"center\", \"fill\": \"rgb(102, 111, 137)\", \"font\": \"Roboto, Arial, sans-serif\", \"fontSize\": 12, \"fontWeight\": \"normal\", \"tooltip\": null}, \"encoding\": {\"text\": {\"value\": \"Equal\"}, \"x\": {\"value\": 400.0}, \"y\": {\"value\": 7.5}}}], \"data\": {\"name\": \"data-79dd248bdaa0ea02c535240e8ad022c8\"}}, {\"layer\": [{\"mark\": {\"type\": \"rule\", \"opacity\": 0.8, \"stroke\": \"rgb(211, 47, 47)\", \"strokeWidth\": 1.25, \"tooltip\": null}, \"encoding\": {\"x\": {\"field\": \"min\", \"scale\": {\"domain\": [-2, 2], \"range\": [40.0, 760.0]}, \"type\": \"quantitative\"}, \"y\": {\"value\": 25.0}, \"y2\": {\"value\": 225.0}}}, {\"mark\": {\"type\": \"rule\", \"opacity\": 0.8, \"stroke\": \"rgb(211, 47, 47)\", \"strokeWidth\": 1.25, \"tooltip\": null}, \"encoding\": {\"x\": {\"field\": \"max\", \"scale\": {\"domain\": [-2, 2], \"range\": [40.0, 760.0]}, \"type\": \"quantitative\"}, \"y\": {\"value\": 25.0}, \"y2\": {\"value\": 225.0}}}, {\"layer\": [{\"mark\": {\"type\": \"rect\", \"fill\": \"rgb(211, 47, 47)\", \"opacity\": 0.1, \"tooltip\": null}, \"encoding\": {\"x\": {\"field\": \"min\", \"scale\": {\"domain\": [-2, 2], \"range\": [40.0, 760.0]}, \"type\": \"quantitative\"}, \"x2\": {\"field\": \"lower_end\"}, \"y\": {\"value\": 25.0}, \"y2\": {\"value\": 225.0}}}, {\"mark\": {\"type\": \"rect\", \"fill\": \"rgb(211, 47, 47)\", \"opacity\": 0.1, \"tooltip\": null}, \"encoding\": {\"x\": {\"field\": \"max\", \"scale\": {\"domain\": [-2, 2], \"range\": [40.0, 760.0]}, \"type\": \"quantitative\"}, \"x2\": {\"field\": \"upper_end\"}, \"y\": {\"value\": 25.0}, \"y2\": {\"value\": 225.0}}}]}, {\"layer\": [{\"mark\": {\"type\": \"text\", \"align\": \"left\", \"baseline\": \"top\", \"fill\": \"rgb(211, 47, 47)\", \"font\": \"Roboto, Arial, sans-serif\", \"fontSize\": 12, \"fontWeight\": \"normal\", \"tooltip\": null}, \"encoding\": {\"text\": {\"value\": \"The metric value for any group should not be 1.25 (or more) times smaller or larger than that of the reference group 0.\"}, \"x\": {\"value\": 0}, \"y\": {\"value\": 233.33333333333334}}}], \"data\": {\"name\": \"data-79dd248bdaa0ea02c535240e8ad022c8\"}}], \"data\": {\"name\": \"data-feb20f5d4dfe62687617135ffee93d46\"}}, {\"layer\": [{\"data\": {\"name\": \"empty\"}, \"mark\": \"circle\"}, {\"data\": {\"name\": \"data-f24dcd94ff8611a2a18913dc58ba62ad\"}, \"mark\": {\"type\": \"circle\", \"cursor\": \"pointer\", \"opacity\": 0.2}, \"encoding\": {\"color\": {\"condition\": {\"field\": \"attribute_value\", \"legend\": null, \"scale\": {\"domain\": [\"0\", \"1\"], \"range\": [\"rgb(102, 111, 137)\", \"rgb(76, 136, 238)\", \"rgb(254, 97, 0)\", \"rgb(220, 38, 127)\", \"rgb(255, 176, 0)\", \"rgb(150, 95, 230)\"]}, \"type\": \"nominal\", \"selection\": \"selector005\"}, \"value\": \"rgb(225, 226, 231)\"}, \"size\": {\"field\": \"group_size\", \"legend\": null, \"scale\": {\"domain\": [0, 15588.0], \"range\": [0, 7853.981633974483]}, \"type\": \"quantitative\"}, \"tooltip\": [{\"field\": \"attribute_value\", \"title\": \"Group\", \"type\": \"nominal\"}, {\"field\": \"tooltip_group_size\", \"title\": \"Group Size\", \"type\": \"nominal\"}, {\"field\": \"tooltip_disparity_explanation_fpr\", \"title\": \"Disparity\", \"type\": \"nominal\"}, {\"field\": \"fpr\", \"format\": \".2f\", \"title\": \"FPR\", \"type\": \"quantitative\"}], \"x\": {\"axis\": {\"domain\": false, \"gridColor\": \"rgb(225, 226, 231)\", \"labels\": false, \"ticks\": false, \"title\": null, \"values\": [1, 2, -2, -1]}, \"field\": \"fpr_disparity_scaled\", \"scale\": {\"domain\": [-2, 2], \"range\": [40.0, 760.0]}, \"type\": \"quantitative\"}, \"y\": {\"axis\": {\"domain\": false, \"grid\": false, \"labels\": false, \"ticks\": false, \"title\": null}, \"field\": \"metric_variable\", \"scale\": {\"domain\": [\"FPR\"], \"range\": [30, 225.0]}, \"type\": \"nominal\"}}, \"selection\": {\"selector007\": {\"type\": \"multi\", \"empty\": \"all\", \"fields\": [\"attribute_value\"]}}, \"transform\": [{\"calculate\": \"'FPR'\", \"as\": \"metric_variable\"}]}, {\"layer\": [{\"data\": {\"name\": \"empty\"}, \"mark\": \"point\"}, {\"data\": {\"name\": \"data-f24dcd94ff8611a2a18913dc58ba62ad\"}, \"mark\": {\"type\": \"point\", \"cursor\": \"pointer\", \"filled\": true, \"size\": 60}, \"encoding\": {\"color\": {\"condition\": {\"field\": \"attribute_value\", \"legend\": null, \"scale\": {\"domain\": [\"0\", \"1\"], \"range\": [\"rgb(102, 111, 137)\", \"rgb(76, 136, 238)\", \"rgb(254, 97, 0)\", \"rgb(220, 38, 127)\", \"rgb(255, 176, 0)\", \"rgb(150, 95, 230)\"]}, \"type\": \"nominal\", \"selection\": \"selector005\"}, \"value\": \"rgb(225, 226, 231)\"}, \"shape\": {\"field\": \"attribute_value\", \"legend\": null, \"scale\": {\"domain\": [\"0\", \"1\"], \"range\": [\"cross\", \"circle\"]}, \"type\": \"nominal\"}, \"tooltip\": [{\"field\": \"attribute_value\", \"title\": \"Group\", \"type\": \"nominal\"}, {\"field\": \"tooltip_group_size\", \"title\": \"Group Size\", \"type\": \"nominal\"}, {\"field\": \"tooltip_disparity_explanation_fpr\", \"title\": \"Disparity\", \"type\": \"nominal\"}, {\"field\": \"fpr\", \"format\": \".2f\", \"title\": \"FPR\", \"type\": \"quantitative\"}], \"x\": {\"axis\": {\"domain\": false, \"gridColor\": \"rgb(225, 226, 231)\", \"labels\": false, \"ticks\": false, \"title\": null, \"values\": [1, 2, -2, -1]}, \"field\": \"fpr_disparity_scaled\", \"scale\": {\"domain\": [-2, 2], \"range\": [40.0, 760.0]}, \"type\": \"quantitative\"}, \"y\": {\"axis\": {\"domain\": false, \"grid\": false, \"labels\": false, \"ticks\": false, \"title\": null}, \"field\": \"metric_variable\", \"scale\": {\"domain\": [\"FPR\"], \"range\": [30, 225.0]}, \"type\": \"nominal\"}}, \"selection\": {\"selector006\": {\"type\": \"multi\", \"empty\": \"all\", \"fields\": [\"attribute_value\"]}}, \"transform\": [{\"calculate\": \"'FPR'\", \"as\": \"metric_variable\"}]}]}]}, {\"layer\": [{\"mark\": {\"type\": \"point\", \"cursor\": \"pointer\", \"filled\": true, \"opacity\": 1, \"size\": 40}, \"encoding\": {\"color\": {\"condition\": {\"field\": \"attribute_value\", \"legend\": null, \"scale\": {\"domain\": [\"0\", \"1\"], \"range\": [\"rgb(102, 111, 137)\", \"rgb(76, 136, 238)\", \"rgb(254, 97, 0)\", \"rgb(220, 38, 127)\", \"rgb(255, 176, 0)\", \"rgb(150, 95, 230)\"]}, \"type\": \"nominal\", \"selection\": \"selector005\"}, \"value\": \"rgb(225, 226, 231)\"}, \"shape\": {\"field\": \"attribute_value\", \"legend\": null, \"scale\": {\"domain\": [\"0\", \"1\"], \"range\": [\"cross\", \"circle\"]}, \"type\": \"nominal\"}, \"x\": {\"value\": 807.5682482323056}, \"y\": {\"axis\": {\"domain\": false, \"grid\": false, \"labels\": false, \"ticks\": false, \"title\": null}, \"field\": \"attribute_value\", \"scale\": {\"domain\": [\"0\", \"1\"], \"range\": [54, 86]}, \"type\": \"nominal\"}}, \"selection\": {\"selector005\": {\"type\": \"multi\", \"empty\": \"all\", \"fields\": [\"attribute_value\"]}}}, {\"mark\": {\"type\": \"text\", \"align\": \"left\", \"baseline\": \"middle\", \"cursor\": \"pointer\", \"font\": \"Roboto, Arial, sans-serif\", \"fontSize\": 12, \"fontWeight\": \"normal\"}, \"encoding\": {\"color\": {\"condition\": {\"field\": \"attribute_value\", \"legend\": null, \"scale\": {\"domain\": [\"0\", \"1\"], \"range\": [\"rgb(102, 111, 137)\", \"rgb(76, 136, 238)\", \"rgb(254, 97, 0)\", \"rgb(220, 38, 127)\", \"rgb(255, 176, 0)\", \"rgb(150, 95, 230)\"]}, \"type\": \"nominal\", \"selection\": \"selector005\"}, \"value\": \"rgb(225, 226, 231)\"}, \"text\": {\"field\": \"label\", \"type\": \"nominal\"}, \"x\": {\"value\": 818.1364964646111}, \"y\": {\"axis\": {\"domain\": false, \"grid\": false, \"labels\": false, \"ticks\": false, \"title\": null}, \"field\": \"attribute_value\", \"scale\": {\"domain\": [\"0\", \"1\"], \"range\": [54, 86]}, \"type\": \"nominal\"}}, \"selection\": {\"selector008\": {\"type\": \"multi\", \"empty\": \"all\", \"fields\": [\"attribute_value\"]}}}, {\"data\": {\"name\": \"data-79dd248bdaa0ea02c535240e8ad022c8\"}, \"mark\": {\"type\": \"text\", \"align\": \"left\", \"baseline\": \"top\", \"color\": \"rgb(25, 39, 78)\", \"font\": \"Roboto, Arial, sans-serif\", \"fontSize\": 12, \"fontWeight\": \"bold\"}, \"encoding\": {\"text\": {\"value\": \"(click to highlight)\"}, \"x\": {\"value\": 800}, \"y\": {\"value\": 34}}}, {\"data\": {\"name\": \"data-79dd248bdaa0ea02c535240e8ad022c8\"}, \"mark\": {\"type\": \"text\", \"align\": \"left\", \"baseline\": \"top\", \"color\": \"rgb(25, 39, 78)\", \"font\": \"Roboto, Arial, sans-serif\", \"fontSize\": 12, \"fontWeight\": \"bold\"}, \"encoding\": {\"text\": {\"value\": \"Groups\"}, \"x\": {\"value\": 800}, \"y\": {\"value\": 20}}}], \"data\": {\"name\": \"data-711e50c9c74ea5e50c1544827342332e\"}}], \"height\": 250, \"padding\": {\"top\": 15, \"bottom\": 7.0, \"left\": 15, \"right\": 15}, \"resolve\": {\"scale\": {\"size\": \"independent\", \"y\": \"independent\"}}, \"title\": \"Disparities on Customer_Age_Bin\", \"usermeta\": {\"embedOptions\": {\"scaleFactor\": 5, \"downloadFileName\": \"disparity_chart\"}}, \"width\": 800, \"$schema\": \"https://vega.github.io/schema/vega-lite/v4.17.0.json\", \"datasets\": {\"data-38121450c6697f570e9bf3f18efe866c\": [{\"metric\": \"FPR\", \"x\": -2, \"x2\": 2}], \"data-79dd248bdaa0ea02c535240e8ad022c8\": [{\"a\": 1, \"b\": 0}, {\"a\": 1, \"b\": 0}], \"data-c233327f4cd9b4c2df31bf8015c83e4a\": [{\"value\": 1, \"label\": 2}, {\"value\": 2, \"label\": 3}, {\"value\": -2, \"label\": 3}, {\"value\": -1, \"label\": 2}, {\"value\": 0, \"label\": \"=\"}], \"data-feb20f5d4dfe62687617135ffee93d46\": [{\"min\": -0.25, \"max\": 0.25, \"lower_end\": -2, \"upper_end\": 2}], \"empty\": [{}], \"data-f24dcd94ff8611a2a18913dc58ba62ad\": [{\"attribute_name\": \"customer_age_bin\", \"attribute_value\": \"0\", \"group_size\": 12990, \"total_entities\": 15000, \"fpr\": 0.06029170891506123, \"fpr_disparity\": 1.0, \"fpr_disparity_scaled\": 0.0, \"tooltip_group_size\": \"12,990 (86.60%)\", \"tooltip_disparity_explanation_fpr\": \"Reference group\"}, {\"attribute_name\": \"customer_age_bin\", \"attribute_value\": \"1\", \"group_size\": 2010, \"total_entities\": 15000, \"fpr\": 0.06269270298047276, \"fpr_disparity\": 1.0398229559025114, \"fpr_disparity_scaled\": 0.03982295590251139, \"tooltip_group_size\": \"2,010 (13.40%)\", \"tooltip_disparity_explanation_fpr\": \"1.04 times larger FPR than the reference group\"}], \"data-711e50c9c74ea5e50c1544827342332e\": [{\"attribute_value\": \"0\", \"label\": \"0 [REF]\"}, {\"attribute_value\": \"1\", \"label\": \"1\"}]}}, {\"mode\": \"vega-lite\"});\n",
              "</script>"
            ],
            "text/plain": [
              "alt.LayerChart(...)"
            ]
          },
          "metadata": {},
          "execution_count": 21
        }
      ]
    },
    {
      "cell_type": "code",
      "source": [
        "disparities_fixed[[\"attribute_name\", \"attribute_value\", \"tpr\", \"fpr\", \"accuracy\", \"precision\"]]"
      ],
      "metadata": {
        "colab": {
          "base_uri": "https://localhost:8080/",
          "height": 112
        },
        "id": "EVh1lFbCAw_h",
        "outputId": "692c62db-d250-4505-8890-b572ba877a40"
      },
      "execution_count": 25,
      "outputs": [
        {
          "output_type": "execute_result",
          "data": {
            "text/plain": [
              "     attribute_name attribute_value       tpr       fpr  accuracy  precision\n",
              "0  customer_age_bin               0  0.538462  0.060292  0.934488   0.105324\n",
              "1  customer_age_bin               1  0.453125  0.062693  0.921891   0.192053"
            ],
            "text/html": [
              "\n",
              "  <div id=\"df-d1a16dcd-c7ed-4969-b430-abc6dc26852f\" class=\"colab-df-container\">\n",
              "    <div>\n",
              "<style scoped>\n",
              "    .dataframe tbody tr th:only-of-type {\n",
              "        vertical-align: middle;\n",
              "    }\n",
              "\n",
              "    .dataframe tbody tr th {\n",
              "        vertical-align: top;\n",
              "    }\n",
              "\n",
              "    .dataframe thead th {\n",
              "        text-align: right;\n",
              "    }\n",
              "</style>\n",
              "<table border=\"1\" class=\"dataframe\">\n",
              "  <thead>\n",
              "    <tr style=\"text-align: right;\">\n",
              "      <th></th>\n",
              "      <th>attribute_name</th>\n",
              "      <th>attribute_value</th>\n",
              "      <th>tpr</th>\n",
              "      <th>fpr</th>\n",
              "      <th>accuracy</th>\n",
              "      <th>precision</th>\n",
              "    </tr>\n",
              "  </thead>\n",
              "  <tbody>\n",
              "    <tr>\n",
              "      <th>0</th>\n",
              "      <td>customer_age_bin</td>\n",
              "      <td>0</td>\n",
              "      <td>0.538462</td>\n",
              "      <td>0.060292</td>\n",
              "      <td>0.934488</td>\n",
              "      <td>0.105324</td>\n",
              "    </tr>\n",
              "    <tr>\n",
              "      <th>1</th>\n",
              "      <td>customer_age_bin</td>\n",
              "      <td>1</td>\n",
              "      <td>0.453125</td>\n",
              "      <td>0.062693</td>\n",
              "      <td>0.921891</td>\n",
              "      <td>0.192053</td>\n",
              "    </tr>\n",
              "  </tbody>\n",
              "</table>\n",
              "</div>\n",
              "    <div class=\"colab-df-buttons\">\n",
              "\n",
              "  <div class=\"colab-df-container\">\n",
              "    <button class=\"colab-df-convert\" onclick=\"convertToInteractive('df-d1a16dcd-c7ed-4969-b430-abc6dc26852f')\"\n",
              "            title=\"Convert this dataframe to an interactive table.\"\n",
              "            style=\"display:none;\">\n",
              "\n",
              "  <svg xmlns=\"http://www.w3.org/2000/svg\" height=\"24px\" viewBox=\"0 -960 960 960\">\n",
              "    <path d=\"M120-120v-720h720v720H120Zm60-500h600v-160H180v160Zm220 220h160v-160H400v160Zm0 220h160v-160H400v160ZM180-400h160v-160H180v160Zm440 0h160v-160H620v160ZM180-180h160v-160H180v160Zm440 0h160v-160H620v160Z\"/>\n",
              "  </svg>\n",
              "    </button>\n",
              "\n",
              "  <style>\n",
              "    .colab-df-container {\n",
              "      display:flex;\n",
              "      gap: 12px;\n",
              "    }\n",
              "\n",
              "    .colab-df-convert {\n",
              "      background-color: #E8F0FE;\n",
              "      border: none;\n",
              "      border-radius: 50%;\n",
              "      cursor: pointer;\n",
              "      display: none;\n",
              "      fill: #1967D2;\n",
              "      height: 32px;\n",
              "      padding: 0 0 0 0;\n",
              "      width: 32px;\n",
              "    }\n",
              "\n",
              "    .colab-df-convert:hover {\n",
              "      background-color: #E2EBFA;\n",
              "      box-shadow: 0px 1px 2px rgba(60, 64, 67, 0.3), 0px 1px 3px 1px rgba(60, 64, 67, 0.15);\n",
              "      fill: #174EA6;\n",
              "    }\n",
              "\n",
              "    .colab-df-buttons div {\n",
              "      margin-bottom: 4px;\n",
              "    }\n",
              "\n",
              "    [theme=dark] .colab-df-convert {\n",
              "      background-color: #3B4455;\n",
              "      fill: #D2E3FC;\n",
              "    }\n",
              "\n",
              "    [theme=dark] .colab-df-convert:hover {\n",
              "      background-color: #434B5C;\n",
              "      box-shadow: 0px 1px 3px 1px rgba(0, 0, 0, 0.15);\n",
              "      filter: drop-shadow(0px 1px 2px rgba(0, 0, 0, 0.3));\n",
              "      fill: #FFFFFF;\n",
              "    }\n",
              "  </style>\n",
              "\n",
              "    <script>\n",
              "      const buttonEl =\n",
              "        document.querySelector('#df-d1a16dcd-c7ed-4969-b430-abc6dc26852f button.colab-df-convert');\n",
              "      buttonEl.style.display =\n",
              "        google.colab.kernel.accessAllowed ? 'block' : 'none';\n",
              "\n",
              "      async function convertToInteractive(key) {\n",
              "        const element = document.querySelector('#df-d1a16dcd-c7ed-4969-b430-abc6dc26852f');\n",
              "        const dataTable =\n",
              "          await google.colab.kernel.invokeFunction('convertToInteractive',\n",
              "                                                    [key], {});\n",
              "        if (!dataTable) return;\n",
              "\n",
              "        const docLinkHtml = 'Like what you see? Visit the ' +\n",
              "          '<a target=\"_blank\" href=https://colab.research.google.com/notebooks/data_table.ipynb>data table notebook</a>'\n",
              "          + ' to learn more about interactive tables.';\n",
              "        element.innerHTML = '';\n",
              "        dataTable['output_type'] = 'display_data';\n",
              "        await google.colab.output.renderOutput(dataTable, element);\n",
              "        const docLink = document.createElement('div');\n",
              "        docLink.innerHTML = docLinkHtml;\n",
              "        element.appendChild(docLink);\n",
              "      }\n",
              "    </script>\n",
              "  </div>\n",
              "\n",
              "\n",
              "<div id=\"df-0f9385ba-fb5d-46f7-ae78-869633e2ebb9\">\n",
              "  <button class=\"colab-df-quickchart\" onclick=\"quickchart('df-0f9385ba-fb5d-46f7-ae78-869633e2ebb9')\"\n",
              "            title=\"Suggest charts\"\n",
              "            style=\"display:none;\">\n",
              "\n",
              "<svg xmlns=\"http://www.w3.org/2000/svg\" height=\"24px\"viewBox=\"0 0 24 24\"\n",
              "     width=\"24px\">\n",
              "    <g>\n",
              "        <path d=\"M19 3H5c-1.1 0-2 .9-2 2v14c0 1.1.9 2 2 2h14c1.1 0 2-.9 2-2V5c0-1.1-.9-2-2-2zM9 17H7v-7h2v7zm4 0h-2V7h2v10zm4 0h-2v-4h2v4z\"/>\n",
              "    </g>\n",
              "</svg>\n",
              "  </button>\n",
              "\n",
              "<style>\n",
              "  .colab-df-quickchart {\n",
              "      --bg-color: #E8F0FE;\n",
              "      --fill-color: #1967D2;\n",
              "      --hover-bg-color: #E2EBFA;\n",
              "      --hover-fill-color: #174EA6;\n",
              "      --disabled-fill-color: #AAA;\n",
              "      --disabled-bg-color: #DDD;\n",
              "  }\n",
              "\n",
              "  [theme=dark] .colab-df-quickchart {\n",
              "      --bg-color: #3B4455;\n",
              "      --fill-color: #D2E3FC;\n",
              "      --hover-bg-color: #434B5C;\n",
              "      --hover-fill-color: #FFFFFF;\n",
              "      --disabled-bg-color: #3B4455;\n",
              "      --disabled-fill-color: #666;\n",
              "  }\n",
              "\n",
              "  .colab-df-quickchart {\n",
              "    background-color: var(--bg-color);\n",
              "    border: none;\n",
              "    border-radius: 50%;\n",
              "    cursor: pointer;\n",
              "    display: none;\n",
              "    fill: var(--fill-color);\n",
              "    height: 32px;\n",
              "    padding: 0;\n",
              "    width: 32px;\n",
              "  }\n",
              "\n",
              "  .colab-df-quickchart:hover {\n",
              "    background-color: var(--hover-bg-color);\n",
              "    box-shadow: 0 1px 2px rgba(60, 64, 67, 0.3), 0 1px 3px 1px rgba(60, 64, 67, 0.15);\n",
              "    fill: var(--button-hover-fill-color);\n",
              "  }\n",
              "\n",
              "  .colab-df-quickchart-complete:disabled,\n",
              "  .colab-df-quickchart-complete:disabled:hover {\n",
              "    background-color: var(--disabled-bg-color);\n",
              "    fill: var(--disabled-fill-color);\n",
              "    box-shadow: none;\n",
              "  }\n",
              "\n",
              "  .colab-df-spinner {\n",
              "    border: 2px solid var(--fill-color);\n",
              "    border-color: transparent;\n",
              "    border-bottom-color: var(--fill-color);\n",
              "    animation:\n",
              "      spin 1s steps(1) infinite;\n",
              "  }\n",
              "\n",
              "  @keyframes spin {\n",
              "    0% {\n",
              "      border-color: transparent;\n",
              "      border-bottom-color: var(--fill-color);\n",
              "      border-left-color: var(--fill-color);\n",
              "    }\n",
              "    20% {\n",
              "      border-color: transparent;\n",
              "      border-left-color: var(--fill-color);\n",
              "      border-top-color: var(--fill-color);\n",
              "    }\n",
              "    30% {\n",
              "      border-color: transparent;\n",
              "      border-left-color: var(--fill-color);\n",
              "      border-top-color: var(--fill-color);\n",
              "      border-right-color: var(--fill-color);\n",
              "    }\n",
              "    40% {\n",
              "      border-color: transparent;\n",
              "      border-right-color: var(--fill-color);\n",
              "      border-top-color: var(--fill-color);\n",
              "    }\n",
              "    60% {\n",
              "      border-color: transparent;\n",
              "      border-right-color: var(--fill-color);\n",
              "    }\n",
              "    80% {\n",
              "      border-color: transparent;\n",
              "      border-right-color: var(--fill-color);\n",
              "      border-bottom-color: var(--fill-color);\n",
              "    }\n",
              "    90% {\n",
              "      border-color: transparent;\n",
              "      border-bottom-color: var(--fill-color);\n",
              "    }\n",
              "  }\n",
              "</style>\n",
              "\n",
              "  <script>\n",
              "    async function quickchart(key) {\n",
              "      const quickchartButtonEl =\n",
              "        document.querySelector('#' + key + ' button');\n",
              "      quickchartButtonEl.disabled = true;  // To prevent multiple clicks.\n",
              "      quickchartButtonEl.classList.add('colab-df-spinner');\n",
              "      try {\n",
              "        const charts = await google.colab.kernel.invokeFunction(\n",
              "            'suggestCharts', [key], {});\n",
              "      } catch (error) {\n",
              "        console.error('Error during call to suggestCharts:', error);\n",
              "      }\n",
              "      quickchartButtonEl.classList.remove('colab-df-spinner');\n",
              "      quickchartButtonEl.classList.add('colab-df-quickchart-complete');\n",
              "    }\n",
              "    (() => {\n",
              "      let quickchartButtonEl =\n",
              "        document.querySelector('#df-0f9385ba-fb5d-46f7-ae78-869633e2ebb9 button');\n",
              "      quickchartButtonEl.style.display =\n",
              "        google.colab.kernel.accessAllowed ? 'block' : 'none';\n",
              "    })();\n",
              "  </script>\n",
              "</div>\n",
              "    </div>\n",
              "  </div>\n"
            ]
          },
          "metadata": {},
          "execution_count": 25
        }
      ]
    }
  ]
}