{
 "cells": [
  {
   "cell_type": "markdown",
   "metadata": {},
   "source": [
    "# Installation\n",
    "\n",
    "Aequitas requires Python 3.\n",
    "\n",
    "Install this Python library from source\n",
    "\n",
    "```\n",
    "    python setup.py install\n",
    "```\n",
    "\n",
    "...or named as an installation requirement, *e.g.* via ``pip``\n",
    "```\n",
    "    pip install git+https://github.com/dssg/aequitas.git\n",
    "```"
   ]
  }
 ],
 "metadata": {
  "kernelspec": {
   "display_name": "Python 3",
   "language": "python",
   "name": "python3"
  },
  "language_info": {
   "codemirror_mode": {
    "name": "ipython",
    "version": 3
   },
   "file_extension": ".py",
   "mimetype": "text/x-python",
   "name": "python",
   "nbconvert_exporter": "python",
   "pygments_lexer": "ipython3",
   "version": "3.6.4"
  }
 },
 "nbformat": 4,
 "nbformat_minor": 2
}
