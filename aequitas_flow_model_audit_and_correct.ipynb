{
  "cells": [
    {
      "cell_type": "markdown",
      "metadata": {
        "id": "ZsqKO--9ksr5"
      },
      "source": [
        "\n",
        "<center><img src=\"https://raw.githubusercontent.com/dssg/aequitas/master/src/aequitas_webapp/static/images/aequitas_flow_header.svg\"></center>\n",
        "\n",
        "# Correcting the predictions of a Model\n",
        "\n",
        "In this notebook we will first **load a Machine Learning model** created through an **`Experiment`** of **Aequitas Flow**. We will  measure its performance and run a **fairness audit**  using the application-specific configurations.\n",
        "\n",
        "We will then apply a **post-processing method to correct the predictions**, and observe any **changes in fairness** and **performance**."
      ]
    },
    {
      "cell_type": "markdown",
      "metadata": {
        "id": "0wDrvM8_n5mv"
      },
      "source": [
        "---\n",
        "## Initial Setup\n",
        "\n",
        "This section covers the initial setup required for the notebook. We'll be **installing the most recent version of Aequitas**.\n",
        "\n",
        "> ⚠️ **This notebook assumes that an ML Model has already been trained**. ⚠️\n",
        "\n",
        "We'll also be retrieving the model pickle file from a previous experiment, downloading it directly from the [Aequitas Repository](https://github.com/dssg/aequitas/tree/master/examples). However, the notebook supports the use of other models or datasets."
      ]
    },
    {
      "cell_type": "code",
      "execution_count": null,
      "metadata": {
        "id": "zPDql-NObJop"
      },
      "outputs": [],
      "source": [
        "# Install Aequitas (change to version install after release)\n",
        "!pip install git+https://github.com/dssg/aequitas.git@release-fixes &> /dev/null\n",
        "# This only needs to run once, or after your runtime environment gets deleted."
      ]
    },
    {
      "cell_type": "code",
      "execution_count": null,
      "metadata": {
        "id": "1KK264RHq2CU"
      },
      "outputs": [],
      "source": [
        "# This will avoid double logging in Colab\n",
        "from aequitas.flow.utils.logging import clean_handlers\n",
        "\n",
        "clean_handlers()"
      ]
    },
    {
      "cell_type": "code",
      "execution_count": null,
      "metadata": {
        "colab": {
          "base_uri": "https://localhost:8080/"
        },
        "id": "Jsmu0T87q6Bx",
        "outputId": "a706e697-24b7-400a-aa0f-004195b48818"
      },
      "outputs": [],
      "source": [
        "# This cell will download a model from the repository. You do not need to run it if you have your won model.\n",
        "from aequitas.flow.utils.colab import get_examples\n",
        "\n",
        "get_examples(\"experiment_results\")"
      ]
    },
    {
      "cell_type": "markdown",
      "metadata": {
        "id": "nGTwdp8Eo_Cg"
      },
      "source": [
        "---\n",
        "## Loading the model & datasets\n",
        "\n",
        "In this section we will load the model for the audit and the evaluation datasets.\n",
        "\n",
        "If you are testing your own model, make sure to send it to the Colab environment (or any other environment you are using this notebook on).\n",
        "\n",
        "Starting with the model:"
      ]
    },
    {
      "cell_type": "code",
      "execution_count": null,
      "metadata": {
        "id": "UDl_KSJZrGUL"
      },
      "outputs": [],
      "source": [
        "pickle_path = \"examples/experiment_results/lgbm_baf_sample.pickle\""
      ]
    },
    {
      "cell_type": "code",
      "execution_count": null,
      "metadata": {
        "id": "LpPU4HfO3UgA"
      },
      "outputs": [],
      "source": [
        "# Change this cell if your model is loaded in a different form.\n",
        "import pickle\n",
        "\n",
        "with open(pickle_path, \"rb\") as f:\n",
        "    model = pickle.load(f)"
      ]
    },
    {
      "cell_type": "markdown",
      "metadata": {
        "id": "iJM2rtif3MrQ"
      },
      "source": [
        "In this example, we are using a sample of the **BankAccountFraud** dataset. This dataset presents a predictive task of detecting fraudulent attempts of bank account opening.\n",
        "\n",
        "In case you want to use a different dataset, make sure it is loaded as a pandas dataframe. If possible, configure an `aequitas.flow.datasets.GenericDataset`, for less changes in other cells.\n",
        "\n",
        "Now we will load the dataset:"
      ]
    },
    {
      "cell_type": "code",
      "execution_count": null,
      "metadata": {
        "colab": {
          "base_uri": "https://localhost:8080/"
        },
        "id": "tNw7H0gEdnSZ",
        "outputId": "a8ab91ec-16b3-4993-c3de-14a0eb91b837"
      },
      "outputs": [],
      "source": [
        "from aequitas.flow.methods.base_estimator import LightGBM\n",
        "from aequitas.flow.datasets import BankAccountFraud\n",
        "\n",
        "dataset = BankAccountFraud(\"Sample\")\n",
        "dataset.load_data()\n",
        "dataset.create_splits()\n",
        "\n",
        "validation = dataset.validation\n",
        "test = dataset.test"
      ]
    },
    {
      "cell_type": "markdown",
      "metadata": {
        "id": "ho6YLarf4rVJ"
      },
      "source": [
        "---\n",
        "## Obtaining the predictions and thresholding the model\n",
        "\n",
        "In the following cells, we will generate the predictions with the model and the dataset, and create a threshold for it."
      ]
    },
    {
      "cell_type": "code",
      "execution_count": null,
      "metadata": {
        "id": "hZ1xMZ6I4YQd"
      },
      "outputs": [],
      "source": [
        "# If your model is not from\n",
        "preds_val = model.predict_proba(validation.X, validation.s)\n",
        "preds_test = model.predict_proba(test.X, test.s)"
      ]
    },
    {
      "cell_type": "markdown",
      "metadata": {
        "id": "JWRvvenC9XEf"
      },
      "source": [
        "We use the `Threshold` from Aequitas Flow for thresholding. In the specific use-case of the BankAccountFraud dataset, we are pointing for an FPR value of 5%. You can adjust that by changing the instantiation of this class.\n",
        "\n",
        "The Threshold will be fitted to a validation set, and used to binarize the test set. Note that you can threshold the same test you fit, but this might lead to overfitting."
      ]
    },
    {
      "cell_type": "code",
      "execution_count": null,
      "metadata": {
        "colab": {
          "base_uri": "https://localhost:8080/"
        },
        "id": "S81IqlG3ozML",
        "outputId": "fc3deb96-cc6f-4aae-ff42-1ec97ab30b57"
      },
      "outputs": [],
      "source": [
        "from aequitas.flow.methods.postprocessing import Threshold\n",
        "\n",
        "# We will create a threshold based to obtain 5% FPR on validation\n",
        "threshold = Threshold(threshold_type=\"fpr\", threshold_value=0.05)\n",
        "threshold.fit(validation.X, preds_val, validation.y, validation.s)\n",
        "\n",
        "print(f\"Threshold Value: {threshold.threshold}\")"
      ]
    },
    {
      "cell_type": "code",
      "execution_count": null,
      "metadata": {
        "colab": {
          "base_uri": "https://localhost:8080/"
        },
        "id": "HmR4q725p5uQ",
        "outputId": "864d7ed4-57c1-4acd-d3d5-17e4a01bde8a"
      },
      "outputs": [],
      "source": [
        "# Binarize test predictions with previously calculated threshold\n",
        "bin_preds_test = threshold.transform(test.X, preds_test, test.s)"
      ]
    },
    {
      "cell_type": "markdown",
      "metadata": {
        "id": "ROkY2ALE-hl3"
      },
      "source": [
        "---\n",
        "## Fairness Audit and Performance Evaluation\n",
        "\n",
        "Now, we will create the resources necessary to perform a fairness audit, and evaluate the model performance. These are:\n",
        "1. **Protected attribute**\n",
        "2. **Model predictions**\n",
        "3. **Labels**\n",
        "\n",
        "But first, we will have to define some configurations of this step."
      ]
    },
    {
      "cell_type": "markdown",
      "metadata": {
        "id": "nj9V5Hj4BQWc"
      },
      "source": [
        "As a brief summary of the task of the BankAccountFraud dataset, the performance is determined by the percentage of positive instances (frauds) detected (TPR). False Positives will incur in a non-fraudulent individual not having a bank account due to a false flag. Because of this, we want to equalize the rate of false positives (FPR) in relation to the protected attribute, in this case the customer age. The reference group for this task is the group with younger age (<50).\n",
        "\n",
        "> ⚠️ **Make sure to update the following configuration cell with the appropriate values for your use-case**. ⚠️"
      ]
    },
    {
      "cell_type": "code",
      "execution_count": null,
      "metadata": {
        "id": "qPAaigjzArnO"
      },
      "outputs": [],
      "source": [
        "performance_metric = \"tpr\"\n",
        "fairness_metric = \"fpr\"\n",
        "\n",
        "# The column name of the sensitive attribute can be obtained from the aequitas.flow.Dataset object\n",
        "fairness_column = test.s.name\n",
        "# The reference group for the example of BAF is \"0\", i.e. individuals from the younger group (<50).\n",
        "reference_group = \"0\""
      ]
    },
    {
      "cell_type": "code",
      "execution_count": null,
      "metadata": {
        "id": "tXZfmWuYn4M6"
      },
      "outputs": [],
      "source": [
        "# Creating a dataframe for the fairness audit\n",
        "audit_df = test.s.astype(str).to_frame()\n",
        "audit_df[\"label\"] = test.y\n",
        "# These might need to change if you are not using an aequitas.flow.Dataset object\n",
        "\n",
        "audit_df[\"score\"] = bin_preds_test"
      ]
    },
    {
      "cell_type": "markdown",
      "metadata": {
        "id": "qaM-U7_HcOlO"
      },
      "source": [
        "In the cell bellow we will see the minimal structure for a fairness audit DataFrame:"
      ]
    },
    {
      "cell_type": "code",
      "execution_count": null,
      "metadata": {
        "colab": {
          "base_uri": "https://localhost:8080/",
          "height": 206
        },
        "id": "wg8YZRKxCZdJ",
        "outputId": "56d3da66-3cde-4ee6-f579-b28be6930238"
      },
      "outputs": [],
      "source": [
        "audit_df.sample(n=5, random_state=2)"
      ]
    },
    {
      "cell_type": "markdown",
      "metadata": {
        "id": "bNH9djTU_7mg"
      },
      "source": [
        "We will quickly observe the performance of the model with a method for the effect.\n",
        "\n",
        "In this dataset, we are using global **TPR** as performance metric."
      ]
    },
    {
      "cell_type": "code",
      "execution_count": null,
      "metadata": {
        "colab": {
          "base_uri": "https://localhost:8080/"
        },
        "id": "2AlL6HKJroKk",
        "outputId": "717a71e0-d6a0-4670-d90a-d33afc35007a"
      },
      "outputs": [],
      "source": [
        "from aequitas.flow.evaluation import evaluate_performance\n",
        "import pandas as pd\n",
        "\n",
        "pd.Series(evaluate_performance(audit_df[\"label\"], audit_df[\"score\"]))[performance_metric]"
      ]
    },
    {
      "cell_type": "markdown",
      "metadata": {
        "id": "uqb4jcJ3ATxi"
      },
      "source": [
        "We will now perform the fairness audit:"
      ]
    },
    {
      "cell_type": "code",
      "execution_count": null,
      "metadata": {
        "colab": {
          "base_uri": "https://localhost:8080/",
          "height": 229
        },
        "id": "_P_7XVnz5f5S",
        "outputId": "a122e7af-fdff-4f2a-f7f9-1033e9066c7f"
      },
      "outputs": [],
      "source": [
        "from aequitas.group import Group\n",
        "from aequitas.plot import summary\n",
        "\n",
        "g = Group()\n",
        "disparities = g.calculate_disparities(audit_df, \"score\", \"label\", [fairness_column], {fairness_column: reference_group})\n",
        "\n",
        "summary(disparities, [fairness_metric])"
      ]
    },
    {
      "cell_type": "code",
      "execution_count": null,
      "metadata": {
        "colab": {
          "base_uri": "https://localhost:8080/",
          "height": 333
        },
        "id": "2Z39au5opa3l",
        "outputId": "263393d2-be30-4459-e8c6-50c7d5638774"
      },
      "outputs": [],
      "source": [
        "from aequitas.plot import disparity\n",
        "\n",
        "disparity(disparities, [fairness_metric], attribute=fairness_column)"
      ]
    },
    {
      "cell_type": "code",
      "execution_count": null,
      "metadata": {
        "colab": {
          "base_uri": "https://localhost:8080/",
          "height": 112
        },
        "id": "Gl4USnW9Ac-s",
        "outputId": "38011782-734e-4603-e3b5-b752e5caa8bd"
      },
      "outputs": [],
      "source": [
        "disparities[[\"attribute_name\", \"attribute_value\", \"tpr\", \"fpr\", \"accuracy\", \"precision\"]]"
      ]
    },
    {
      "cell_type": "markdown",
      "metadata": {
        "id": "D2bNI3aKCrQg"
      },
      "source": [
        "---\n",
        "## Correcting the predictions\n",
        "\n",
        "To correct the predictions, we will use a method available in Aequitas Flow.\n",
        "\n",
        "This method will calculate different thresholds to equalize a target metric for all the groups (in this case the fairness metric, FPR)."
      ]
    },
    {
      "cell_type": "code",
      "execution_count": null,
      "metadata": {
        "colab": {
          "base_uri": "https://localhost:8080/"
        },
        "id": "LPyuJ3cH7Dak",
        "outputId": "7621d842-dc06-43d3-87ad-7aab2b8bb3fd"
      },
      "outputs": [],
      "source": [
        "from aequitas.flow.methods.postprocessing import GroupThreshold\n",
        "\n",
        "threshold = GroupThreshold(\"fpr\", 0.05)\n",
        "\n",
        "threshold.fit(validation.X, preds_val, validation.y, validation.s)"
      ]
    },
    {
      "cell_type": "code",
      "execution_count": null,
      "metadata": {
        "colab": {
          "base_uri": "https://localhost:8080/"
        },
        "id": "-zjd5v-C9iII",
        "outputId": "0d70aeac-87c5-4ad1-90f5-420298429535"
      },
      "outputs": [],
      "source": [
        "corrected_bin_preds_test = threshold.transform(test.X, preds_test, test.s)"
      ]
    },
    {
      "cell_type": "code",
      "execution_count": null,
      "metadata": {
        "id": "1oCrnkkuuVEr"
      },
      "outputs": [],
      "source": [
        "audit_df = test.s.astype(str).to_frame().copy()\n",
        "audit_df[\"score\"] = corrected_bin_preds_test\n",
        "audit_df[\"label\"] = test.y"
      ]
    },
    {
      "cell_type": "markdown",
      "metadata": {
        "id": "TaGxbM_u_kOT"
      },
      "source": [
        "Let's see the impact of this correction in the global recall of the model, with the updated binarized predictions:"
      ]
    },
    {
      "cell_type": "code",
      "execution_count": null,
      "metadata": {
        "colab": {
          "base_uri": "https://localhost:8080/"
        },
        "id": "YAs_u5rXuPLz",
        "outputId": "281d28be-ebc0-4cbc-91c0-054a2dba994f"
      },
      "outputs": [],
      "source": [
        "pd.Series(evaluate_performance(audit_df[\"label\"], audit_df[\"score\"]))[performance_metric]"
      ]
    },
    {
      "cell_type": "markdown",
      "metadata": {
        "id": "-WYKciu6_x6y"
      },
      "source": [
        "When compared to the previous value of recall, there is no drop in performance.\n",
        "\n",
        "Let's observe the fairness audit:"
      ]
    },
    {
      "cell_type": "code",
      "execution_count": null,
      "metadata": {
        "colab": {
          "base_uri": "https://localhost:8080/",
          "height": 229
        },
        "id": "YoWIUAhm-WXU",
        "outputId": "fb63e2f1-a47e-4f22-a789-ed68b7528b85"
      },
      "outputs": [],
      "source": [
        "g = Group()\n",
        "disparities_fixed = g.calculate_disparities(audit_df, \"score\", \"label\", [fairness_column], {fairness_column: reference_group})\n",
        "\n",
        "summary(disparities_fixed, [fairness_metric])"
      ]
    },
    {
      "cell_type": "code",
      "execution_count": null,
      "metadata": {
        "colab": {
          "base_uri": "https://localhost:8080/",
          "height": 333
        },
        "id": "wVA6NSSbp7at",
        "outputId": "fb230580-883d-4025-f12f-4f5d6f3468d8"
      },
      "outputs": [],
      "source": [
        "from aequitas.plot import disparity\n",
        "\n",
        "disparity(disparities_fixed, [fairness_metric], attribute=fairness_column)"
      ]
    },
    {
      "cell_type": "code",
      "execution_count": null,
      "metadata": {
        "colab": {
          "base_uri": "https://localhost:8080/",
          "height": 112
        },
        "id": "EVh1lFbCAw_h",
        "outputId": "692c62db-d250-4505-8890-b572ba877a40"
      },
      "outputs": [],
      "source": [
        "disparities_fixed[[\"attribute_name\", \"attribute_value\", \"tpr\", \"fpr\", \"accuracy\", \"precision\"]]"
      ]
    }
  ],
  "metadata": {
    "colab": {
      "provenance": []
    },
    "kernelspec": {
      "display_name": "Python 3",
      "name": "python3"
    },
    "language_info": {
      "name": "python"
    }
  },
  "nbformat": 4,
  "nbformat_minor": 0
}
