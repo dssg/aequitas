{
 "cells": [
  {
   "cell_type": "markdown",
   "metadata": {},
   "source": [
    "# Using Aequitas with Python\n",
    "\n",
    "You can use Aequitas commands in a python enviroment using\n",
    "```\n",
    "import aequitas\n",
    "```\n",
    "\n",
    "The workflow relies on three class which build on each other.\n",
    "\n",
    "* `Group()`\n",
    "* `Bias()`\n",
    "* `Fairness()`\n",
    "\n",
    "See it in action [here](./examples/compas_demo.html)\n",
    "\n",
    "See the [API](./api/aequitas.html) for more details.\n"
   ]
  }
 ],
 "metadata": {
  "kernelspec": {
   "display_name": "Python 3",
   "language": "python",
   "name": "python3"
  },
  "language_info": {
   "codemirror_mode": {
    "name": "ipython",
    "version": 3
   },
   "file_extension": ".py",
   "mimetype": "text/x-python",
   "name": "python",
   "nbconvert_exporter": "python",
   "pygments_lexer": "ipython3",
   "version": "3.6.4"
  }
 },
 "nbformat": 4,
 "nbformat_minor": 2
}
